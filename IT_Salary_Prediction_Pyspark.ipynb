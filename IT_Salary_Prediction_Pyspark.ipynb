{
 "cells": [
  {
   "cell_type": "markdown",
   "id": "276b598c",
   "metadata": {},
   "source": [
    "## Table of Contents\n",
    "- [I. Thao tác với dữ liệu đầu vào](#I.-Thao-tác-với-dữ-liệu-đầu-vào)\n",
    "    - [1. Sử dụng biến SparkSession để đọc dữ liệu đầu vào từ tập tin csv](#1.-Sử-dụng-biến-SparkSession-để-đọc-dữ-liệu-đầu-vào-từ-tập-tin-csv)\n",
    "    - [2. Các thư viện hỗ trợ trực quan hóa](#2.-Các-thư-viện-hỗ-trợ-trực-quan-hóa)\n",
    "    - [3. Hiển thị thông tin dữ liệu](#3.-Hiển-thị-thông-tin-dữ-liệu)\n",
    "- [II. Tiền xử lý dữ liệu](#II.-Tiền-xử-lý-dữ-liệu)\n",
    "    - [1. Kiểm tra Missing và làm sạch dữ liệu trên df Dataframe](#1.-Kiểm-tra-Missing-và-làm-sạch-dữ-liệu-trên-df-Dataframe)\n",
    "    - [2. Làm sạch và kiểm soát ngoại lệ dữ liệu trên trường \"Experience\"](#2.-Làm-sạch-và-kiểm-soát-ngoại-lệ-dữ-liệu-trên-trường-\"Experience\")\n",
    "    - [3. Làm sạch và kiểm soát ngoại lệ dữ liệu trên trường \"Salary\"](#3.-Làm-sạch-và-kiểm-soát-ngoại-lệ-dữ-liệu-trên-trường-\"Salary\")\n",
    "- [III. Trực quan hóa dữ liệu](#III.-Trực-quan-hóa-dữ-liệu)\n",
    "    - [1. Trực quan hóa nhóm năm kinh nghiệm của các chuyên gia](#Trực-quan-hóa-nhóm-năm-kinh-nghiệm-của-các-chuyên-gia)\n",
    "    - [2. Trực quan hóa trung bình lương theo nhóm năm kinh nghiệm](#2.-Trực-quan-hóa-trung-bình-lương-theo-nhóm-năm-kinh-nghiệm)\n",
    "    - [3. Trực quan hóa sự phân bổ giữa lương và số năm kinh nghiệm](#3.-Trực-quan-hóa-sự-phân-bổ-giữa-lương-và-số-năm-kinh-nghiệm) \n",
    "- [IV. Chuẩn bị dữ liệu](#IV.-Chuẩn-bị-dữ-liệu)\n",
    "    - [1. Cắt dữ liệu thành hai phần Feature (X) và Target (y)](#1.-Cắt-dữ-liệu-thành-hai-phần-Feature-(X)-và-Target-(y))\n",
    "    - [2. Feature scaling - Chuyển các đặc trưng về cùng một thang đo chung](#2.-Feature-scaling---Chuyển-các-đặc-trưng-về-cùng-một-thang-đo-chung)\n",
    "    - [3. Chia dữ liệu trên tập Feature và tập Target thành 2 tập train và test](#3.-Chia-dữ-liệu-trên-tập-Feature-và-tập-Target-thành-2-tập-train-và-test)\n",
    "- [V. Tạo và ứng dụng mô hình Linear Regression - Hồi quy tuyến tính](#V.-Tạo-và-ứng-dụng-mô-hình-Linear-Regression---Hồi-quy-tuyến-tính)\n",
    "    - [1. Hướng tiếp cận 1](#1.-Hướng-tiếp-cận-1)\n",
    "        - [a. Tạo mô hình hồi quy tuyến tính](#a.-HTC1---Tạo-mô-hình-hồi-quy-tuyến-tính)\n",
    "        - [b. Ứng dụng mô hình hồi quy tuyến tính trên tập dữ liệu test](#b.-HTC1---Ứng-dụng-mô-hình-hồi-quy-tuyến-tính-trên-tập-dữ-liệu-test)\n",
    "        - [c. Tạo và ứng dụng thuật toán đánh giá mô hình RMSE - Root Mean Square Error](#c.-HTC1---Tạo-và-ứng-dụng-thuật-toán-đánh-giá-mô-hình-RMSE---Root-Mean-Square-Error)\n",
    "        - [d. Trực quan hóa kết quả](#d.-HTC1---Trực-quan-hóa-kết-quả)\n",
    "    - [2. Hướng tiếp cận 2](#2.-Hướng-tiếp-cận-2)\n",
    "        - [a. Tạo mô hình hồi quy tuyến tính](#a.-HTC2---Tạo-mô-hình-hồi-quy-tuyến-tính)\n",
    "        - [b. Ứng dụng mô hình hồi quy tuyến tính trên tập dữ liệu test](#b.-HTC2---Ứng-dụng-mô-hình-hồi-quy-tuyến-tính-trên-tập-dữ-liệu-test)\n",
    "        - [c. Tạo và ứng dụng thuật toán đánh giá mô hình RMSE - Root Mean Square Error](#c.-HTC2---Tạo-và-ứng-dựng-thuật-toán-đánh-giá-mô-hình-RMSE---Root-Mean-Square-Error)\n",
    "        - [d. Trực quan hóa kết quả](#d.-HTC2---Trực-quan-hóa-kết-quả)\n",
    "    - [3. Hướng tiếp cận 3: Sử dụng mô hình hồi quy tuyến tính thông qua thư viện MMLib](#3.-Hướng-tiếp-cận-3:-Sử-dụng-mô-hình-hồi-quy-tuyến-tính-thông-qua-thư-viện-MMLib)\n",
    "        - [a. Chuẩn bị dữ liệu và áp dụng thuật toán](#a.-Chuẩn-bị-dữ-liệu-và-áp-dụng-thuật-toán)\n",
    "        - [b. Đánh giá mô hình dự đoán](#b.-Đánh-giá-mô-hình-dự-đoán)\n",
    "        - [c. Trực quan hóa kết quả](#c.-Trực-quan-hóa-kết-quả)  \n",
    "- [VI. So sánh - Đánh giá](#VI.-So-sánh---Đánh-giá)\n",
    "    - [1. Thời gian thực thi mô hình dự đoán](#1.-Thời-gian-thực-thi-mô-hình-dự-đoán)\n",
    "    - [2. Độ chính xác thông qua chỉ số RMSE](#2.-Độ-chính-xác-thông-qua-chỉ-số-RMSE)\n",
    "    - [3. Độ chính xác thông qua trực quan hóa dữ liệu](#3.-Độ-chính-xác-thông-qua-trực-quan-hóa-dữ-liệu)"
   ]
  },
  {
   "cell_type": "code",
   "execution_count": 1,
   "id": "18502882",
   "metadata": {
    "scrolled": true
   },
   "outputs": [
    {
     "data": {
      "text/plain": [
       "'local-1654072429734'"
      ]
     },
     "execution_count": 1,
     "metadata": {},
     "output_type": "execute_result"
    }
   ],
   "source": [
    "sc.applicationId"
   ]
  },
  {
   "cell_type": "markdown",
   "id": "0913bb23",
   "metadata": {},
   "source": [
    "# I. Thao tác với dữ liệu đầu vào"
   ]
  },
  {
   "cell_type": "markdown",
   "id": "6eb4b114",
   "metadata": {},
   "source": [
    "## 1. Sử dụng biến SparkSession để đọc dữ liệu đầu vào từ tập tin csv"
   ]
  },
  {
   "cell_type": "code",
   "execution_count": 2,
   "id": "7e923a3a",
   "metadata": {},
   "outputs": [
    {
     "name": "stderr",
     "output_type": "stream",
     "text": [
      "                                                                                \r"
     ]
    },
    {
     "data": {
      "text/plain": [
       "1253"
      ]
     },
     "execution_count": 2,
     "metadata": {},
     "output_type": "execute_result"
    }
   ],
   "source": [
    "data = spark.read.format(\"csv\")\\\n",
    "    .option(\"header\", \"true\")\\\n",
    "    .option(\"inferSchema\", \"true\")\\\n",
    "    .load(\"IT Salary Survey EU 2020.csv\")\n",
    "data.cache()\n",
    "data.count()"
   ]
  },
  {
   "cell_type": "markdown",
   "id": "23ff5d3f",
   "metadata": {},
   "source": [
    "## 2. Các thư viện hỗ trợ trực quan hóa"
   ]
  },
  {
   "cell_type": "code",
   "execution_count": 3,
   "id": "9e015579",
   "metadata": {},
   "outputs": [],
   "source": [
    "import pandas as pd\n",
    "from pandas import *\n",
    "import numpy as np\n",
    "import matplotlib.pyplot as plt\n",
    "import seaborn as sns\n",
    "import time\n",
    "\n",
    "from pyspark.sql.functions import count, when, isnan, col, regexp_replace, length"
   ]
  },
  {
   "cell_type": "markdown",
   "id": "7f2f372f",
   "metadata": {},
   "source": [
    "## 3. Hiển thị thông tin dữ liệu"
   ]
  },
  {
   "cell_type": "code",
   "execution_count": 4,
   "id": "56ca46d1",
   "metadata": {},
   "outputs": [
    {
     "data": {
      "text/plain": [
       "DataFrame[Timestamp: string, Age: int, Gender: string, City: string, Position : string, Total years of experience: string, Years of experience in Germany: string, Seniority level: string, Your main technology / programming language: string, Other technologies/programming languages you use often: string, Yearly brutto salary (without bonus and stocks) in EUR: double, Yearly bonus + stocks in EUR: string, Annual brutto salary (without bonus and stocks) one year ago. Only answer if staying in the same country: int, Annual bonus+stocks one year ago. Only answer if staying in same country: string, Number of vacation days: string, Employment status: string, Сontract duration: string, Main language at work: string, Company size: string, Company type: string, Have you lost your job due to the coronavirus outbreak?: string, Have you been forced to have a shorter working week (Kurzarbeit)? If yes, how many hours per week: double, Have you received additional monetary support from your employer due to Work From Home? If yes, how much in 2020 in EUR: string]"
      ]
     },
     "metadata": {},
     "output_type": "display_data"
    },
    {
     "name": "stdout",
     "output_type": "stream",
     "text": [
      "root\n",
      " |-- Timestamp: string (nullable = true)\n",
      " |-- Age: integer (nullable = true)\n",
      " |-- Gender: string (nullable = true)\n",
      " |-- City: string (nullable = true)\n",
      " |-- Position : string (nullable = true)\n",
      " |-- Total years of experience: string (nullable = true)\n",
      " |-- Years of experience in Germany: string (nullable = true)\n",
      " |-- Seniority level: string (nullable = true)\n",
      " |-- Your main technology / programming language: string (nullable = true)\n",
      " |-- Other technologies/programming languages you use often: string (nullable = true)\n",
      " |-- Yearly brutto salary (without bonus and stocks) in EUR: double (nullable = true)\n",
      " |-- Yearly bonus + stocks in EUR: string (nullable = true)\n",
      " |-- Annual brutto salary (without bonus and stocks) one year ago. Only answer if staying in the same country: integer (nullable = true)\n",
      " |-- Annual bonus+stocks one year ago. Only answer if staying in same country: string (nullable = true)\n",
      " |-- Number of vacation days: string (nullable = true)\n",
      " |-- Employment status: string (nullable = true)\n",
      " |-- Сontract duration: string (nullable = true)\n",
      " |-- Main language at work: string (nullable = true)\n",
      " |-- Company size: string (nullable = true)\n",
      " |-- Company type: string (nullable = true)\n",
      " |-- Have you lost your job due to the coronavirus outbreak?: string (nullable = true)\n",
      " |-- Have you been forced to have a shorter working week (Kurzarbeit)? If yes, how many hours per week: double (nullable = true)\n",
      " |-- Have you received additional monetary support from your employer due to Work From Home? If yes, how much in 2020 in EUR: string (nullable = true)\n",
      "\n"
     ]
    }
   ],
   "source": [
    "display(data)\n",
    "\n",
    "data.printSchema()"
   ]
  },
  {
   "cell_type": "code",
   "execution_count": 5,
   "id": "b72cece0",
   "metadata": {
    "scrolled": true
   },
   "outputs": [
    {
     "data": {
      "text/html": [
       "<div>\n",
       "<style scoped>\n",
       "    .dataframe tbody tr th:only-of-type {\n",
       "        vertical-align: middle;\n",
       "    }\n",
       "\n",
       "    .dataframe tbody tr th {\n",
       "        vertical-align: top;\n",
       "    }\n",
       "\n",
       "    .dataframe thead th {\n",
       "        text-align: right;\n",
       "    }\n",
       "</style>\n",
       "<table border=\"1\" class=\"dataframe\">\n",
       "  <thead>\n",
       "    <tr style=\"text-align: right;\">\n",
       "      <th></th>\n",
       "      <th>Timestamp</th>\n",
       "      <th>Age</th>\n",
       "      <th>Gender</th>\n",
       "      <th>City</th>\n",
       "      <th>Position</th>\n",
       "      <th>Total years of experience</th>\n",
       "      <th>Years of experience in Germany</th>\n",
       "      <th>Seniority level</th>\n",
       "      <th>Your main technology / programming language</th>\n",
       "      <th>Other technologies/programming languages you use often</th>\n",
       "      <th>...</th>\n",
       "      <th>Annual bonus+stocks one year ago. Only answer if staying in same country</th>\n",
       "      <th>Number of vacation days</th>\n",
       "      <th>Employment status</th>\n",
       "      <th>Сontract duration</th>\n",
       "      <th>Main language at work</th>\n",
       "      <th>Company size</th>\n",
       "      <th>Company type</th>\n",
       "      <th>Have you lost your job due to the coronavirus outbreak?</th>\n",
       "      <th>Have you been forced to have a shorter working week (Kurzarbeit)? If yes, how many hours per week</th>\n",
       "      <th>Have you received additional monetary support from your employer due to Work From Home? If yes, how much in 2020 in EUR</th>\n",
       "    </tr>\n",
       "  </thead>\n",
       "  <tbody>\n",
       "    <tr>\n",
       "      <th>0</th>\n",
       "      <td>24/11/2020 11:14:15</td>\n",
       "      <td>26.0</td>\n",
       "      <td>Male</td>\n",
       "      <td>Munich</td>\n",
       "      <td>Software Engineer</td>\n",
       "      <td>5</td>\n",
       "      <td>3</td>\n",
       "      <td>Senior</td>\n",
       "      <td>TypeScript</td>\n",
       "      <td>Kotlin, Javascript / Typescript</td>\n",
       "      <td>...</td>\n",
       "      <td>10000</td>\n",
       "      <td>30</td>\n",
       "      <td>Full-time employee</td>\n",
       "      <td>Unlimited contract</td>\n",
       "      <td>English</td>\n",
       "      <td>51-100</td>\n",
       "      <td>Product</td>\n",
       "      <td>No</td>\n",
       "      <td>NaN</td>\n",
       "      <td>None</td>\n",
       "    </tr>\n",
       "    <tr>\n",
       "      <th>1</th>\n",
       "      <td>24/11/2020 11:14:16</td>\n",
       "      <td>26.0</td>\n",
       "      <td>Male</td>\n",
       "      <td>Berlin</td>\n",
       "      <td>Backend Developer</td>\n",
       "      <td>7</td>\n",
       "      <td>4</td>\n",
       "      <td>Senior</td>\n",
       "      <td>Ruby</td>\n",
       "      <td>None</td>\n",
       "      <td>...</td>\n",
       "      <td>5000</td>\n",
       "      <td>28</td>\n",
       "      <td>Full-time employee</td>\n",
       "      <td>Unlimited contract</td>\n",
       "      <td>English</td>\n",
       "      <td>101-1000</td>\n",
       "      <td>Product</td>\n",
       "      <td>No</td>\n",
       "      <td>NaN</td>\n",
       "      <td>None</td>\n",
       "    </tr>\n",
       "    <tr>\n",
       "      <th>2</th>\n",
       "      <td>24/11/2020 11:14:21</td>\n",
       "      <td>29.0</td>\n",
       "      <td>Male</td>\n",
       "      <td>Berlin</td>\n",
       "      <td>Software Engineer</td>\n",
       "      <td>12</td>\n",
       "      <td>6</td>\n",
       "      <td>Lead</td>\n",
       "      <td>Javascript / Typescript</td>\n",
       "      <td>Javascript / Typescript, Docker</td>\n",
       "      <td>...</td>\n",
       "      <td>100000</td>\n",
       "      <td>30</td>\n",
       "      <td>Self-employed (freelancer)</td>\n",
       "      <td>Temporary contract</td>\n",
       "      <td>English</td>\n",
       "      <td>101-1000</td>\n",
       "      <td>Product</td>\n",
       "      <td>Yes</td>\n",
       "      <td>NaN</td>\n",
       "      <td>None</td>\n",
       "    </tr>\n",
       "    <tr>\n",
       "      <th>3</th>\n",
       "      <td>24/11/2020 11:15:24</td>\n",
       "      <td>28.0</td>\n",
       "      <td>Male</td>\n",
       "      <td>Berlin</td>\n",
       "      <td>Frontend Developer</td>\n",
       "      <td>4</td>\n",
       "      <td>1</td>\n",
       "      <td>Junior</td>\n",
       "      <td>Javascript</td>\n",
       "      <td>None</td>\n",
       "      <td>...</td>\n",
       "      <td>None</td>\n",
       "      <td>24</td>\n",
       "      <td>Full-time employee</td>\n",
       "      <td>Unlimited contract</td>\n",
       "      <td>English</td>\n",
       "      <td>51-100</td>\n",
       "      <td>Startup</td>\n",
       "      <td>No</td>\n",
       "      <td>NaN</td>\n",
       "      <td>None</td>\n",
       "    </tr>\n",
       "    <tr>\n",
       "      <th>4</th>\n",
       "      <td>24/11/2020 11:15:46</td>\n",
       "      <td>37.0</td>\n",
       "      <td>Male</td>\n",
       "      <td>Berlin</td>\n",
       "      <td>Backend Developer</td>\n",
       "      <td>17</td>\n",
       "      <td>6</td>\n",
       "      <td>Senior</td>\n",
       "      <td>C# .NET</td>\n",
       "      <td>.NET, SQL, AWS, Docker</td>\n",
       "      <td>...</td>\n",
       "      <td>None</td>\n",
       "      <td>29</td>\n",
       "      <td>Full-time employee</td>\n",
       "      <td>Unlimited contract</td>\n",
       "      <td>English</td>\n",
       "      <td>101-1000</td>\n",
       "      <td>Product</td>\n",
       "      <td>No</td>\n",
       "      <td>NaN</td>\n",
       "      <td>None</td>\n",
       "    </tr>\n",
       "  </tbody>\n",
       "</table>\n",
       "<p>5 rows × 23 columns</p>\n",
       "</div>"
      ],
      "text/plain": [
       "             Timestamp   Age Gender    City           Position   \\\n",
       "0  24/11/2020 11:14:15  26.0   Male  Munich   Software Engineer   \n",
       "1  24/11/2020 11:14:16  26.0   Male  Berlin   Backend Developer   \n",
       "2  24/11/2020 11:14:21  29.0   Male  Berlin   Software Engineer   \n",
       "3  24/11/2020 11:15:24  28.0   Male  Berlin  Frontend Developer   \n",
       "4  24/11/2020 11:15:46  37.0   Male  Berlin   Backend Developer   \n",
       "\n",
       "  Total years of experience Years of experience in Germany Seniority level  \\\n",
       "0                         5                              3          Senior   \n",
       "1                         7                              4          Senior   \n",
       "2                        12                              6            Lead   \n",
       "3                         4                              1          Junior   \n",
       "4                        17                              6          Senior   \n",
       "\n",
       "  Your main technology / programming language  \\\n",
       "0                                  TypeScript   \n",
       "1                                        Ruby   \n",
       "2                     Javascript / Typescript   \n",
       "3                                  Javascript   \n",
       "4                                     C# .NET   \n",
       "\n",
       "  Other technologies/programming languages you use often  ...  \\\n",
       "0                    Kotlin, Javascript / Typescript      ...   \n",
       "1                                               None      ...   \n",
       "2                    Javascript / Typescript, Docker      ...   \n",
       "3                                               None      ...   \n",
       "4                             .NET, SQL, AWS, Docker      ...   \n",
       "\n",
       "   Annual bonus+stocks one year ago. Only answer if staying in same country  \\\n",
       "0                                              10000                          \n",
       "1                                               5000                          \n",
       "2                                             100000                          \n",
       "3                                               None                          \n",
       "4                                               None                          \n",
       "\n",
       "  Number of vacation days           Employment status   Сontract duration  \\\n",
       "0                      30          Full-time employee  Unlimited contract   \n",
       "1                      28          Full-time employee  Unlimited contract   \n",
       "2                      30  Self-employed (freelancer)  Temporary contract   \n",
       "3                      24          Full-time employee  Unlimited contract   \n",
       "4                      29          Full-time employee  Unlimited contract   \n",
       "\n",
       "  Main language at work Company size Company type  \\\n",
       "0               English       51-100      Product   \n",
       "1               English     101-1000      Product   \n",
       "2               English     101-1000      Product   \n",
       "3               English       51-100      Startup   \n",
       "4               English     101-1000      Product   \n",
       "\n",
       "  Have you lost your job due to the coronavirus outbreak?  \\\n",
       "0                                                 No        \n",
       "1                                                 No        \n",
       "2                                                Yes        \n",
       "3                                                 No        \n",
       "4                                                 No        \n",
       "\n",
       "  Have you been forced to have a shorter working week (Kurzarbeit)? If yes, how many hours per week  \\\n",
       "0                                                NaN                                                  \n",
       "1                                                NaN                                                  \n",
       "2                                                NaN                                                  \n",
       "3                                                NaN                                                  \n",
       "4                                                NaN                                                  \n",
       "\n",
       "  Have you received additional monetary support from your employer due to Work From Home? If yes, how much in 2020 in EUR  \n",
       "0                                               None                                                                       \n",
       "1                                               None                                                                       \n",
       "2                                               None                                                                       \n",
       "3                                               None                                                                       \n",
       "4                                               None                                                                       \n",
       "\n",
       "[5 rows x 23 columns]"
      ]
     },
     "execution_count": 5,
     "metadata": {},
     "output_type": "execute_result"
    }
   ],
   "source": [
    "data.toPandas().head()"
   ]
  },
  {
   "cell_type": "code",
   "execution_count": 6,
   "id": "b2622fb7",
   "metadata": {},
   "outputs": [
    {
     "data": {
      "text/plain": [
       "<AxesSubplot:ylabel='Percent'>"
      ]
     },
     "execution_count": 6,
     "metadata": {},
     "output_type": "execute_result"
    },
    {
     "data": {
      "image/png": "[encoded data removed]",
      "text/plain": [
       "<Figure size 1440x432 with 2 Axes>"
      ]
     },
     "metadata": {
      "needs_background": "light"
     },
     "output_type": "display_data"
    }
   ],
   "source": [
    "# Tổng missing data trên từng trường dữ liệu\n",
    "total = data.toPandas().isnull().sum().sort_values(ascending=False)\n",
    "\n",
    "# Phần trăm missing data rên từng trường dữ liệu\n",
    "percent = (data.toPandas().isnull().sum() / data.toPandas().isnull().count()).sort_values()\n",
    "\n",
    "# Dataframe thống kê số lượng missing data trên từng trường và phần trăm missing data\n",
    "missing_data = pd.concat([total, round(percent * 100,2)], axis=1, keys=['Total', 'Percent'])\n",
    "missing_data\n",
    "\n",
    "# Trực quan hóa missing data trên các trường dữ liệu\n",
    "fig, ax = plt.subplots(nrows=1, ncols=2, figsize=(20, 6))\n",
    "sns.heatmap(data.toPandas().isna(), cmap=\"Blues\", cbar=False, yticklabels=False, ax=ax[0])\n",
    "plt.xticks(rotation='90')\n",
    "sns.barplot(x=missing_data.index, y=missing_data['Percent'], ax=ax[1])"
   ]
  },
  {
   "cell_type": "code",
   "execution_count": 7,
   "id": "93703fb1",
   "metadata": {},
   "outputs": [
    {
     "data": {
      "text/html": [
       "<div>\n",
       "<style scoped>\n",
       "    .dataframe tbody tr th:only-of-type {\n",
       "        vertical-align: middle;\n",
       "    }\n",
       "\n",
       "    .dataframe tbody tr th {\n",
       "        vertical-align: top;\n",
       "    }\n",
       "\n",
       "    .dataframe thead th {\n",
       "        text-align: right;\n",
       "    }\n",
       "</style>\n",
       "<table border=\"1\" class=\"dataframe\">\n",
       "  <thead>\n",
       "    <tr style=\"text-align: right;\">\n",
       "      <th></th>\n",
       "      <th>Age</th>\n",
       "      <th>Position</th>\n",
       "      <th>Your main technology / programming language</th>\n",
       "      <th>Total years of experience</th>\n",
       "      <th>Yearly brutto salary (without bonus and stocks) in EUR</th>\n",
       "    </tr>\n",
       "  </thead>\n",
       "  <tbody>\n",
       "    <tr>\n",
       "      <th>0</th>\n",
       "      <td>26.0</td>\n",
       "      <td>Software Engineer</td>\n",
       "      <td>TypeScript</td>\n",
       "      <td>5</td>\n",
       "      <td>80000.0</td>\n",
       "    </tr>\n",
       "    <tr>\n",
       "      <th>1</th>\n",
       "      <td>26.0</td>\n",
       "      <td>Backend Developer</td>\n",
       "      <td>Ruby</td>\n",
       "      <td>7</td>\n",
       "      <td>80000.0</td>\n",
       "    </tr>\n",
       "    <tr>\n",
       "      <th>2</th>\n",
       "      <td>29.0</td>\n",
       "      <td>Software Engineer</td>\n",
       "      <td>Javascript / Typescript</td>\n",
       "      <td>12</td>\n",
       "      <td>120000.0</td>\n",
       "    </tr>\n",
       "    <tr>\n",
       "      <th>3</th>\n",
       "      <td>28.0</td>\n",
       "      <td>Frontend Developer</td>\n",
       "      <td>Javascript</td>\n",
       "      <td>4</td>\n",
       "      <td>54000.0</td>\n",
       "    </tr>\n",
       "    <tr>\n",
       "      <th>4</th>\n",
       "      <td>37.0</td>\n",
       "      <td>Backend Developer</td>\n",
       "      <td>C# .NET</td>\n",
       "      <td>17</td>\n",
       "      <td>62000.0</td>\n",
       "    </tr>\n",
       "  </tbody>\n",
       "</table>\n",
       "</div>"
      ],
      "text/plain": [
       "    Age           Position  Your main technology / programming language  \\\n",
       "0  26.0   Software Engineer                                  TypeScript   \n",
       "1  26.0   Backend Developer                                        Ruby   \n",
       "2  29.0   Software Engineer                     Javascript / Typescript   \n",
       "3  28.0  Frontend Developer                                  Javascript   \n",
       "4  37.0   Backend Developer                                     C# .NET   \n",
       "\n",
       "  Total years of experience  \\\n",
       "0                         5   \n",
       "1                         7   \n",
       "2                        12   \n",
       "3                         4   \n",
       "4                        17   \n",
       "\n",
       "   Yearly brutto salary (without bonus and stocks) in EUR  \n",
       "0                                            80000.0       \n",
       "1                                            80000.0       \n",
       "2                                           120000.0       \n",
       "3                                            54000.0       \n",
       "4                                            62000.0       "
      ]
     },
     "execution_count": 7,
     "metadata": {},
     "output_type": "execute_result"
    }
   ],
   "source": [
    "# Tạo View để truy vấn hiển thị dữ liệu\n",
    "data.createOrReplaceTempView(\"data_salary\")\n",
    "\n",
    "# Dataframe df1 dùng để so sánh khi xử lý và làm sạch dữ liệu \n",
    "df1 = spark.sql(\"SELECT `Age`, `Position `, `Your main technology / programming language`, `Total years of experience`, `Yearly brutto salary (without bonus and stocks) in EUR` FROM data_salary\")\n",
    "df1.toPandas().head()"
   ]
  },
  {
   "cell_type": "code",
   "execution_count": 8,
   "id": "ed9a794e",
   "metadata": {},
   "outputs": [
    {
     "name": "stdout",
     "output_type": "stream",
     "text": [
      "+---+----------+--------+\n",
      "|Age|Experience|  Salary|\n",
      "+---+----------+--------+\n",
      "| 26|         5| 80000.0|\n",
      "| 26|         7| 80000.0|\n",
      "| 29|        12|120000.0|\n",
      "| 28|         4| 54000.0|\n",
      "| 37|        17| 62000.0|\n",
      "+---+----------+--------+\n",
      "only showing top 5 rows\n",
      "\n"
     ]
    }
   ],
   "source": [
    "# Dataframe df dùng để thao tác và sử dụng triển khai mô hình dự đoán\n",
    "df = spark.sql(\"SELECT `Age`, `Total years of experience` as Experience, `Yearly brutto salary (without bonus and stocks) in EUR` as Salary  FROM data_salary\")\n",
    "df.show(5)"
   ]
  },
  {
   "cell_type": "markdown",
   "id": "d1d11f95",
   "metadata": {},
   "source": [
    "# II. Tiền xử lý dữ liệu"
   ]
  },
  {
   "cell_type": "markdown",
   "id": "f57c8928",
   "metadata": {},
   "source": [
    "## 1. Kiểm tra Missing và làm sạch dữ liệu trên df Dataframe"
   ]
  },
  {
   "cell_type": "code",
   "execution_count": 9,
   "id": "28cdc0e8",
   "metadata": {
    "scrolled": true
   },
   "outputs": [
    {
     "name": "stdout",
     "output_type": "stream",
     "text": [
      "+---+----------+------+\n",
      "|Age|Experience|Salary|\n",
      "+---+----------+------+\n",
      "| 27|        16|     0|\n",
      "+---+----------+------+\n",
      "\n"
     ]
    }
   ],
   "source": [
    "# Kiểm tra Missing Data trên df Dataframe\n",
    "df.select([count(when(isnan(c) | col(c).isNull(), c)).alias(c) for c in df.columns]).show()"
   ]
  },
  {
   "cell_type": "code",
   "execution_count": 10,
   "id": "892e616c",
   "metadata": {},
   "outputs": [
    {
     "name": "stdout",
     "output_type": "stream",
     "text": [
      "+-------------------+--------------------------+----------------------+\n",
      "|Age_missing_percent|Experience_missing_percent|Salary_missing_percent|\n",
      "+-------------------+--------------------------+----------------------+\n",
      "|  2.154828411811649|         1.276935355147646|                   0.0|\n",
      "+-------------------+--------------------------+----------------------+\n",
      "\n"
     ]
    }
   ],
   "source": [
    "# Kiểm tra phần trăm Missing Data trên từng cột của df Dataframe\n",
    "df.agg(*[((1 - (count(c) / count('*'))) * 100).alias(c + '_missing_percent') for c in df.columns]).show()"
   ]
  },
  {
   "cell_type": "code",
   "execution_count": 11,
   "id": "eb1f2a26",
   "metadata": {},
   "outputs": [
    {
     "data": {
      "text/plain": [
       "DataFrame[Age: int, Experience: string, Salary: double]"
      ]
     },
     "metadata": {},
     "output_type": "display_data"
    }
   ],
   "source": [
    "display(df)"
   ]
  },
  {
   "cell_type": "markdown",
   "id": "af4ba3e6",
   "metadata": {},
   "source": [
    "## 2. Làm sạch và kiểm soát ngoại lệ dữ liệu trên trường \"Experience\""
   ]
  },
  {
   "cell_type": "code",
   "execution_count": 12,
   "id": "9f7da7f8",
   "metadata": {},
   "outputs": [
    {
     "name": "stdout",
     "output_type": "stream",
     "text": [
      "+---------------------------------------------------+\n",
      "|Experience                                         |\n",
      "+---------------------------------------------------+\n",
      "|null                                               |\n",
      "|0                                                  |\n",
      "|0.8                                                |\n",
      "|1                                                  |\n",
      "|1 (as QA Engineer) / 11 in total                   |\n",
      "|1,5                                                |\n",
      "|1.5                                                |\n",
      "|10                                                 |\n",
      "|11                                                 |\n",
      "|12                                                 |\n",
      "|13                                                 |\n",
      "|14                                                 |\n",
      "|15                                                 |\n",
      "|15, thereof 8 as CTO                               |\n",
      "|16                                                 |\n",
      "|17                                                 |\n",
      "|18                                                 |\n",
      "|19                                                 |\n",
      "|2                                                  |\n",
      "|2,5                                                |\n",
      "|2.5                                                |\n",
      "|20                                                 |\n",
      "|21                                                 |\n",
      "|22                                                 |\n",
      "|23                                                 |\n",
      "|24                                                 |\n",
      "|25                                                 |\n",
      "|26                                                 |\n",
      "|27                                                 |\n",
      "|28                                                 |\n",
      "|29                                                 |\n",
      "|3                                                  |\n",
      "|3.5                                                |\n",
      "|30                                                 |\n",
      "|31                                                 |\n",
      "|383                                                |\n",
      "|4                                                  |\n",
      "|4.5                                                |\n",
      "|40                                                 |\n",
      "|5                                                  |\n",
      "|5.5                                                |\n",
      "|6                                                  |\n",
      "|6 (not as a data scientist, but as a lab scientist)|\n",
      "|6.5                                                |\n",
      "|7                                                  |\n",
      "|7.5                                                |\n",
      "|8                                                  |\n",
      "|9                                                  |\n",
      "|less than year                                     |\n",
      "+---------------------------------------------------+\n",
      "\n"
     ]
    }
   ],
   "source": [
    "# Kiểm tra các giá trị có trên trường \"Experience\"\n",
    "df.select('Experience').distinct().orderBy('Experience').show(100, False)"
   ]
  },
  {
   "cell_type": "code",
   "execution_count": 13,
   "id": "31a5a471",
   "metadata": {},
   "outputs": [],
   "source": [
    "# Đổi dấu ',' thành dấu '.' trên từng dòng dữ liệu của trường 'Experience'\n",
    "df = df.withColumn('Experience', regexp_replace(col('Experience'), \",\", \".\"))\n",
    "\n",
    "# Loại bỏ những dòng không có giá trị, có các ký tự và có số năm kinh nghiệm vượt quá 50 năm\n",
    "df = df.select(\"Age\", \"Experience\", \"Salary\") \\\n",
    "        .where(df[\"Experience\"].isNotNull()) \\\n",
    "        .where(length(df[\"Experience\"]) <= 3) \\\n",
    "        .where(df[\"Experience\"] <= 50.0)"
   ]
  },
  {
   "cell_type": "code",
   "execution_count": 14,
   "id": "fe806303",
   "metadata": {},
   "outputs": [],
   "source": [
    "# Tham khảo: https://sparkbyexamples.com/pyspark/pyspark-cast-column-type/\n",
    "# Tạo View để truy vấn hiển thị và định dạng lại kiểu dữ liệu có trong df Dataframe\n",
    "df.createOrReplaceTempView(\"cast\")\n",
    "df = spark.sql(\"SELECT DOUBLE(Age), DOUBLE(Experience), DOUBLE(Salary) FROM cast\")"
   ]
  },
  {
   "cell_type": "code",
   "execution_count": 15,
   "id": "e78b196a",
   "metadata": {},
   "outputs": [
    {
     "name": "stdout",
     "output_type": "stream",
     "text": [
      "+-------+-----------------+-----------------+--------------------+\n",
      "|summary|              Age|       Experience|              Salary|\n",
      "+-------+-----------------+-----------------+--------------------+\n",
      "|  count|             1213|             1232|                1232|\n",
      "|   mean| 32.4517724649629|8.756980519480518|  477438.00416396104|\n",
      "| stddev|5.541653603488435|5.277877127791256|1.4243068621899147E7|\n",
      "|    min|             20.0|              0.0|             10001.0|\n",
      "|    max|             66.0|             40.0|               5.0E8|\n",
      "+-------+-----------------+-----------------+--------------------+\n",
      "\n"
     ]
    }
   ],
   "source": [
    "# Tóm tắt và kiểm soát các số liệu thống kê cần tính toán.\n",
    "df.describe().show()"
   ]
  },
  {
   "cell_type": "code",
   "execution_count": 16,
   "id": "13a068b4",
   "metadata": {
    "scrolled": false
   },
   "outputs": [
    {
     "name": "stdout",
     "output_type": "stream",
     "text": [
      "+----------+-----+\n",
      "|Experience|count|\n",
      "+----------+-----+\n",
      "|0.0       |6    |\n",
      "|0.8       |2    |\n",
      "|1.0       |31   |\n",
      "|1.5       |4    |\n",
      "|2.0       |57   |\n",
      "|2.5       |5    |\n",
      "|3.0       |66   |\n",
      "|3.5       |2    |\n",
      "|4.0       |80   |\n",
      "|4.5       |2    |\n",
      "|5.0       |136  |\n",
      "|5.5       |1    |\n",
      "|6.0       |99   |\n",
      "|6.5       |1    |\n",
      "|7.0       |84   |\n",
      "|7.5       |1    |\n",
      "|8.0       |92   |\n",
      "|9.0       |60   |\n",
      "|10.0      |138  |\n",
      "|11.0      |43   |\n",
      "|12.0      |67   |\n",
      "|13.0      |41   |\n",
      "|14.0      |39   |\n",
      "|15.0      |63   |\n",
      "|16.0      |20   |\n",
      "|17.0      |12   |\n",
      "|18.0      |16   |\n",
      "|19.0      |7    |\n",
      "|20.0      |28   |\n",
      "|21.0      |3    |\n",
      "|22.0      |5    |\n",
      "|23.0      |2    |\n",
      "|24.0      |1    |\n",
      "|25.0      |7    |\n",
      "|26.0      |1    |\n",
      "|27.0      |2    |\n",
      "|28.0      |1    |\n",
      "|29.0      |1    |\n",
      "|30.0      |4    |\n",
      "|31.0      |1    |\n",
      "|40.0      |1    |\n",
      "+----------+-----+\n",
      "\n"
     ]
    }
   ],
   "source": [
    "# Kiểm tra lại các giá trị có trên trường \"Experience\" theo thứ tự tăng dần số năm kinh nghiệm\n",
    "df.groupBy('Experience').count().orderBy('Experience').show(1000, False)"
   ]
  },
  {
   "cell_type": "code",
   "execution_count": 17,
   "id": "c05f6c63",
   "metadata": {
    "scrolled": false
   },
   "outputs": [
    {
     "data": {
      "text/html": [
       "<div>\n",
       "<style scoped>\n",
       "    .dataframe tbody tr th:only-of-type {\n",
       "        vertical-align: middle;\n",
       "    }\n",
       "\n",
       "    .dataframe tbody tr th {\n",
       "        vertical-align: top;\n",
       "    }\n",
       "\n",
       "    .dataframe thead th {\n",
       "        text-align: right;\n",
       "    }\n",
       "</style>\n",
       "<table border=\"1\" class=\"dataframe\">\n",
       "  <thead>\n",
       "    <tr style=\"text-align: right;\">\n",
       "      <th></th>\n",
       "      <th>Age</th>\n",
       "      <th>Position</th>\n",
       "      <th>Your main technology / programming language</th>\n",
       "      <th>Total years of experience</th>\n",
       "      <th>Yearly brutto salary (without bonus and stocks) in EUR</th>\n",
       "    </tr>\n",
       "  </thead>\n",
       "  <tbody>\n",
       "    <tr>\n",
       "      <th>4</th>\n",
       "      <td>20</td>\n",
       "      <td>Mobile Developer</td>\n",
       "      <td>C#</td>\n",
       "      <td>5</td>\n",
       "      <td>240000.0</td>\n",
       "    </tr>\n",
       "    <tr>\n",
       "      <th>8</th>\n",
       "      <td>69</td>\n",
       "      <td>Rentner</td>\n",
       "      <td>None</td>\n",
       "      <td>383</td>\n",
       "      <td>70000.0</td>\n",
       "    </tr>\n",
       "    <tr>\n",
       "      <th>3</th>\n",
       "      <td>45</td>\n",
       "      <td>Backend Developer</td>\n",
       "      <td>PHP</td>\n",
       "      <td>30</td>\n",
       "      <td>55000.0</td>\n",
       "    </tr>\n",
       "    <tr>\n",
       "      <th>1</th>\n",
       "      <td>44</td>\n",
       "      <td>Software Engineer</td>\n",
       "      <td>C#</td>\n",
       "      <td>28</td>\n",
       "      <td>78500.0</td>\n",
       "    </tr>\n",
       "    <tr>\n",
       "      <th>0</th>\n",
       "      <td>40</td>\n",
       "      <td>Mobile Developer</td>\n",
       "      <td>Swift</td>\n",
       "      <td>25</td>\n",
       "      <td>85000.0</td>\n",
       "    </tr>\n",
       "    <tr>\n",
       "      <th>2</th>\n",
       "      <td>38</td>\n",
       "      <td>Tech Leader</td>\n",
       "      <td>Java</td>\n",
       "      <td>24</td>\n",
       "      <td>130000.0</td>\n",
       "    </tr>\n",
       "    <tr>\n",
       "      <th>5</th>\n",
       "      <td>35</td>\n",
       "      <td>Engineering Manager</td>\n",
       "      <td>Go</td>\n",
       "      <td>20</td>\n",
       "      <td>85000.0</td>\n",
       "    </tr>\n",
       "    <tr>\n",
       "      <th>6</th>\n",
       "      <td>36</td>\n",
       "      <td>Software Engineer</td>\n",
       "      <td>Java</td>\n",
       "      <td>20</td>\n",
       "      <td>74000.0</td>\n",
       "    </tr>\n",
       "    <tr>\n",
       "      <th>7</th>\n",
       "      <td>35</td>\n",
       "      <td>Software Engineer</td>\n",
       "      <td>JavaScript</td>\n",
       "      <td>20</td>\n",
       "      <td>100000.0</td>\n",
       "    </tr>\n",
       "  </tbody>\n",
       "</table>\n",
       "</div>"
      ],
      "text/plain": [
       "   Age            Position  Your main technology / programming language  \\\n",
       "4   20     Mobile Developer                                          C#   \n",
       "8   69              Rentner                                        None   \n",
       "3   45    Backend Developer                                         PHP   \n",
       "1   44    Software Engineer                                          C#   \n",
       "0   40     Mobile Developer                                       Swift   \n",
       "2   38          Tech Leader                                        Java   \n",
       "5   35  Engineering Manager                                          Go   \n",
       "6   36    Software Engineer                                        Java   \n",
       "7   35    Software Engineer                                  JavaScript   \n",
       "\n",
       "  Total years of experience  \\\n",
       "4                         5   \n",
       "8                       383   \n",
       "3                        30   \n",
       "1                        28   \n",
       "0                        25   \n",
       "2                        24   \n",
       "5                        20   \n",
       "6                        20   \n",
       "7                        20   \n",
       "\n",
       "   Yearly brutto salary (without bonus and stocks) in EUR  \n",
       "4                                           240000.0       \n",
       "8                                            70000.0       \n",
       "3                                            55000.0       \n",
       "1                                            78500.0       \n",
       "0                                            85000.0       \n",
       "2                                           130000.0       \n",
       "5                                            85000.0       \n",
       "6                                            74000.0       \n",
       "7                                           100000.0       "
      ]
     },
     "execution_count": 17,
     "metadata": {},
     "output_type": "execute_result"
    }
   ],
   "source": [
    "# Cho rằng các chuyên gia sẽ bắt đầu làm việc từ năm 17 tuổi.\n",
    "# Kiểm tra những dòng có số năm kinh nghiệm không phù hơp. \n",
    "# Ví dụ: 20 tuổi nhưng có 5 năm kinh nghiệm. \n",
    "df1.filter(df1['Age'] - df1['Total years of experience'] < 17).toPandas().sort_values(by='Total years of experience', ascending=False).head(60)"
   ]
  },
  {
   "cell_type": "code",
   "execution_count": 18,
   "id": "568626a7",
   "metadata": {},
   "outputs": [],
   "source": [
    "# Loại bỏ những dòng có số năm kinh nghiệm không phù hơp. \n",
    "df.createOrReplaceTempView(\"experience\")\n",
    "df = spark.sql(\"SELECT DOUBLE(Experience), DOUBLE(Salary) FROM experience WHERE Age - Experience >= 17\")"
   ]
  },
  {
   "cell_type": "code",
   "execution_count": 19,
   "id": "a5ea800a",
   "metadata": {
    "scrolled": true
   },
   "outputs": [
    {
     "name": "stdout",
     "output_type": "stream",
     "text": [
      "+-------+-----------------+--------------------+\n",
      "|summary|       Experience|              Salary|\n",
      "+-------+-----------------+--------------------+\n",
      "|  count|             1205|                1205|\n",
      "|   mean|8.655684647302904|  486242.42417427385|\n",
      "| stddev|5.148732511846307|1.4401761339876426E7|\n",
      "|    min|              0.0|             10001.0|\n",
      "|    max|             40.0|               5.0E8|\n",
      "+-------+-----------------+--------------------+\n",
      "\n"
     ]
    }
   ],
   "source": [
    "# Tóm tắt và kiểm soát các số liệu thống kê cần tính toán.\n",
    "df.describe().show()"
   ]
  },
  {
   "cell_type": "code",
   "execution_count": 20,
   "id": "4cf58f5c",
   "metadata": {},
   "outputs": [
    {
     "name": "stderr",
     "output_type": "stream",
     "text": [
      "                                                                                \r"
     ]
    }
   ],
   "source": [
    "# Lấy ra thông tin trường \"Experience\"\n",
    "exp = df.rdd.map(lambda p: (p.Experience)).collect()"
   ]
  },
  {
   "cell_type": "code",
   "execution_count": 21,
   "id": "658d1938",
   "metadata": {},
   "outputs": [],
   "source": [
    "# Đưa giá trị của trường \"experience\" vào DataFrame để tiến hành kiểm tra ngoại lệ thông qua trực quan hóa\n",
    "experience_value = DataFrame({'experience': exp})"
   ]
  },
  {
   "cell_type": "code",
   "execution_count": 22,
   "id": "ece75ba4",
   "metadata": {},
   "outputs": [
    {
     "data": {
      "image/png": "[encoded data removed]",
      "text/plain": [
       "<Figure size 1080x360 with 2 Axes>"
      ]
     },
     "metadata": {
      "needs_background": "light"
     },
     "output_type": "display_data"
    }
   ],
   "source": [
    "# Trực quan hóa phân bổ và ngoại lệ của trường \"Experience\"\n",
    "fig, axes = plt.subplots(nrows=1, ncols=2, figsize=(15, 5))\n",
    "experience_value['experience'].hist(bins=50, ax=axes[0], alpha=0.7)\n",
    "experience_value['experience'].to_frame().boxplot(ax=axes[1], vert=True);"
   ]
  },
  {
   "cell_type": "code",
   "execution_count": 23,
   "id": "5b1fe084",
   "metadata": {
    "scrolled": true
   },
   "outputs": [
    {
     "data": {
      "text/plain": [
       "DataFrame[Experience: double, Salary: double]"
      ]
     },
     "metadata": {},
     "output_type": "display_data"
    }
   ],
   "source": [
    "display(df)"
   ]
  },
  {
   "cell_type": "code",
   "execution_count": 24,
   "id": "95ba6bd9",
   "metadata": {},
   "outputs": [
    {
     "name": "stdout",
     "output_type": "stream",
     "text": [
      "+----------+--------+\n",
      "|Experience|  Salary|\n",
      "+----------+--------+\n",
      "|      26.0| 93000.0|\n",
      "|      27.0| 57000.0|\n",
      "|      27.0| 90000.0|\n",
      "|      29.0| 28800.0|\n",
      "|      30.0| 60000.0|\n",
      "|      30.0| 69000.0|\n",
      "|      30.0|110000.0|\n",
      "|      31.0|110000.0|\n",
      "|      40.0| 70000.0|\n",
      "+----------+--------+\n",
      "\n"
     ]
    }
   ],
   "source": [
    "df.filter(df['Experience'] > 25).orderBy('Experience').show()"
   ]
  },
  {
   "cell_type": "code",
   "execution_count": 25,
   "id": "be6f81a1",
   "metadata": {
    "scrolled": true
   },
   "outputs": [
    {
     "data": {
      "text/html": [
       "<div>\n",
       "<style scoped>\n",
       "    .dataframe tbody tr th:only-of-type {\n",
       "        vertical-align: middle;\n",
       "    }\n",
       "\n",
       "    .dataframe tbody tr th {\n",
       "        vertical-align: top;\n",
       "    }\n",
       "\n",
       "    .dataframe thead th {\n",
       "        text-align: right;\n",
       "    }\n",
       "</style>\n",
       "<table border=\"1\" class=\"dataframe\">\n",
       "  <thead>\n",
       "    <tr style=\"text-align: right;\">\n",
       "      <th></th>\n",
       "      <th>Age</th>\n",
       "      <th>Position</th>\n",
       "      <th>Your main technology / programming language</th>\n",
       "      <th>Total years of experience</th>\n",
       "      <th>Yearly brutto salary (without bonus and stocks) in EUR</th>\n",
       "    </tr>\n",
       "  </thead>\n",
       "  <tbody>\n",
       "    <tr>\n",
       "      <th>1</th>\n",
       "      <td>66</td>\n",
       "      <td>Software Engineer</td>\n",
       "      <td>ruby on rails</td>\n",
       "      <td>40</td>\n",
       "      <td>70000.0</td>\n",
       "    </tr>\n",
       "    <tr>\n",
       "      <th>10</th>\n",
       "      <td>69</td>\n",
       "      <td>Rentner</td>\n",
       "      <td>None</td>\n",
       "      <td>383</td>\n",
       "      <td>70000.0</td>\n",
       "    </tr>\n",
       "    <tr>\n",
       "      <th>8</th>\n",
       "      <td>54</td>\n",
       "      <td>Sales</td>\n",
       "      <td>Network Automation</td>\n",
       "      <td>31</td>\n",
       "      <td>110000.0</td>\n",
       "    </tr>\n",
       "    <tr>\n",
       "      <th>0</th>\n",
       "      <td>59</td>\n",
       "      <td>Backend Developer</td>\n",
       "      <td>Java</td>\n",
       "      <td>30</td>\n",
       "      <td>69000.0</td>\n",
       "    </tr>\n",
       "    <tr>\n",
       "      <th>5</th>\n",
       "      <td>45</td>\n",
       "      <td>Backend Developer</td>\n",
       "      <td>PHP</td>\n",
       "      <td>30</td>\n",
       "      <td>55000.0</td>\n",
       "    </tr>\n",
       "    <tr>\n",
       "      <th>7</th>\n",
       "      <td>51</td>\n",
       "      <td>Software Engineer</td>\n",
       "      <td>VB, RPA, Python</td>\n",
       "      <td>30</td>\n",
       "      <td>60000.0</td>\n",
       "    </tr>\n",
       "    <tr>\n",
       "      <th>11</th>\n",
       "      <td>56</td>\n",
       "      <td>Software Engineer</td>\n",
       "      <td>c++</td>\n",
       "      <td>30</td>\n",
       "      <td>110000.0</td>\n",
       "    </tr>\n",
       "    <tr>\n",
       "      <th>4</th>\n",
       "      <td>50</td>\n",
       "      <td>Software Engineer</td>\n",
       "      <td>C++</td>\n",
       "      <td>29</td>\n",
       "      <td>28800.0</td>\n",
       "    </tr>\n",
       "    <tr>\n",
       "      <th>3</th>\n",
       "      <td>44</td>\n",
       "      <td>Software Engineer</td>\n",
       "      <td>C#</td>\n",
       "      <td>28</td>\n",
       "      <td>78500.0</td>\n",
       "    </tr>\n",
       "    <tr>\n",
       "      <th>6</th>\n",
       "      <td>49</td>\n",
       "      <td>Software Engineer</td>\n",
       "      <td>Java</td>\n",
       "      <td>27</td>\n",
       "      <td>57000.0</td>\n",
       "    </tr>\n",
       "    <tr>\n",
       "      <th>9</th>\n",
       "      <td>45</td>\n",
       "      <td>CTO</td>\n",
       "      <td>None</td>\n",
       "      <td>27</td>\n",
       "      <td>90000.0</td>\n",
       "    </tr>\n",
       "    <tr>\n",
       "      <th>2</th>\n",
       "      <td>45</td>\n",
       "      <td>Software Engineer</td>\n",
       "      <td>C#</td>\n",
       "      <td>26</td>\n",
       "      <td>93000.0</td>\n",
       "    </tr>\n",
       "  </tbody>\n",
       "</table>\n",
       "</div>"
      ],
      "text/plain": [
       "    Age          Position  Your main technology / programming language  \\\n",
       "1    66  Software Engineer                               ruby on rails   \n",
       "10   69            Rentner                                        None   \n",
       "8    54             Sales                           Network Automation   \n",
       "0    59  Backend Developer                                        Java   \n",
       "5    45  Backend Developer                                         PHP   \n",
       "7    51  Software Engineer                             VB, RPA, Python   \n",
       "11   56  Software Engineer                                         c++   \n",
       "4    50  Software Engineer                                         C++   \n",
       "3    44  Software Engineer                                          C#   \n",
       "6    49  Software Engineer                                        Java   \n",
       "9    45                CTO                                        None   \n",
       "2    45  Software Engineer                                          C#   \n",
       "\n",
       "   Total years of experience  \\\n",
       "1                         40   \n",
       "10                       383   \n",
       "8                         31   \n",
       "0                         30   \n",
       "5                         30   \n",
       "7                         30   \n",
       "11                        30   \n",
       "4                         29   \n",
       "3                         28   \n",
       "6                         27   \n",
       "9                         27   \n",
       "2                         26   \n",
       "\n",
       "    Yearly brutto salary (without bonus and stocks) in EUR  \n",
       "1                                             70000.0       \n",
       "10                                            70000.0       \n",
       "8                                            110000.0       \n",
       "0                                             69000.0       \n",
       "5                                             55000.0       \n",
       "7                                             60000.0       \n",
       "11                                           110000.0       \n",
       "4                                             28800.0       \n",
       "3                                             78500.0       \n",
       "6                                             57000.0       \n",
       "9                                             90000.0       \n",
       "2                                             93000.0       "
      ]
     },
     "execution_count": 25,
     "metadata": {},
     "output_type": "execute_result"
    }
   ],
   "source": [
    "# Kiểm tra chuyên gia có số năm kinh nghiệm lớn hơn 23 năm\n",
    "df1.filter(df1[\"Total years of experience\"] > 25).toPandas().sort_values(by=\"Total years of experience\", ascending=False).head(100)"
   ]
  },
  {
   "cell_type": "code",
   "execution_count": 26,
   "id": "e02bf91c",
   "metadata": {},
   "outputs": [
    {
     "name": "stdout",
     "output_type": "stream",
     "text": [
      "+-------+-----------------+--------------------+\n",
      "|summary|       Experience|              Salary|\n",
      "+-------+-----------------+--------------------+\n",
      "|  count|             1205|                1205|\n",
      "|   mean|8.655684647302904|  486242.42417427385|\n",
      "| stddev|5.148732511846307|1.4401761339876426E7|\n",
      "|    min|              0.0|             10001.0|\n",
      "|    max|             40.0|               5.0E8|\n",
      "+-------+-----------------+--------------------+\n",
      "\n"
     ]
    }
   ],
   "source": [
    "df.describe().show()"
   ]
  },
  {
   "cell_type": "markdown",
   "id": "a7160c43",
   "metadata": {},
   "source": [
    "## 3. Làm sạch và kiểm soát ngoại lệ dữ liệu trên trường \"Salary\""
   ]
  },
  {
   "cell_type": "code",
   "execution_count": 27,
   "id": "7cc9c72b",
   "metadata": {
    "scrolled": false
   },
   "outputs": [
    {
     "name": "stdout",
     "output_type": "stream",
     "text": [
      "+--------+-----+\n",
      "|Salary  |count|\n",
      "+--------+-----+\n",
      "|5.0E8   |1    |\n",
      "|850000.0|1    |\n",
      "|300000.0|1    |\n",
      "|250000.0|1    |\n",
      "|200000.0|4    |\n",
      "|180000.0|2    |\n",
      "|172000.0|1    |\n",
      "|160000.0|1    |\n",
      "|159000.0|1    |\n",
      "|156000.0|1    |\n",
      "|154000.0|1    |\n",
      "|151872.0|1    |\n",
      "|150000.0|3    |\n",
      "|140000.0|2    |\n",
      "|135000.0|1    |\n",
      "|130000.0|5    |\n",
      "|124000.0|1    |\n",
      "|123600.0|1    |\n",
      "|122000.0|1    |\n",
      "|120000.0|12   |\n",
      "+--------+-----+\n",
      "only showing top 20 rows\n",
      "\n"
     ]
    }
   ],
   "source": [
    "# Kiểm tra các giá trị có trên trường \"Salary\" theo thứ tự giảm dần mức lương\n",
    "df.groupBy('Salary').count().orderBy('Salary', ascending = False).show(20, False)"
   ]
  },
  {
   "cell_type": "code",
   "execution_count": 28,
   "id": "bc9daab3",
   "metadata": {},
   "outputs": [],
   "source": [
    "# Lấy ra các thông tin cần thiết\n",
    "sala = df.rdd.map(lambda p: (p.Salary)).collect()"
   ]
  },
  {
   "cell_type": "code",
   "execution_count": 29,
   "id": "d9916f57",
   "metadata": {},
   "outputs": [],
   "source": [
    "# Lấy ra thông tin trường \"Salary\"\n",
    "sala = df.rdd.map(lambda p: (p.Salary)).collect()"
   ]
  },
  {
   "cell_type": "code",
   "execution_count": 30,
   "id": "7d60e440",
   "metadata": {},
   "outputs": [],
   "source": [
    "# Đưa giá trị của trường \"salary\" vào DataFrame để tiến hành kiểm tra ngoại lệ thông qua trực quan hóa\n",
    "salary_value = DataFrame({'salary': sala})"
   ]
  },
  {
   "cell_type": "code",
   "execution_count": 31,
   "id": "222a54d9",
   "metadata": {},
   "outputs": [
    {
     "data": {
      "image/png": "[encoded data removed]",
      "text/plain": [
       "<Figure size 1080x360 with 2 Axes>"
      ]
     },
     "metadata": {
      "needs_background": "light"
     },
     "output_type": "display_data"
    }
   ],
   "source": [
    "# Trực quan hóa phân bổ và ngoại lệ của trường \"salary\"\n",
    "fig, axes = plt.subplots(nrows=1, ncols=2, figsize=(15, 5))\n",
    "salary_value['salary'].hist(bins=50, ax=axes[0], alpha=0.7)\n",
    "salary_value['salary'].to_frame().boxplot(ax=axes[1], vert=True);"
   ]
  },
  {
   "cell_type": "code",
   "execution_count": 32,
   "id": "53c5f0c0",
   "metadata": {},
   "outputs": [
    {
     "name": "stdout",
     "output_type": "stream",
     "text": [
      "+----------+--------+\n",
      "|Experience|  Salary|\n",
      "+----------+--------+\n",
      "|      10.0|151872.0|\n",
      "|      11.0|154000.0|\n",
      "|      18.0|156000.0|\n",
      "|       1.0|159000.0|\n",
      "|      18.0|160000.0|\n",
      "|      15.0|172000.0|\n",
      "|       5.0|180000.0|\n",
      "|      11.0|180000.0|\n",
      "|      20.0|200000.0|\n",
      "|       6.0|200000.0|\n",
      "|      20.0|200000.0|\n",
      "|      10.0|200000.0|\n",
      "|      20.0|250000.0|\n",
      "|       1.0|300000.0|\n",
      "|      18.0|850000.0|\n",
      "|       1.0|   5.0E8|\n",
      "+----------+--------+\n",
      "\n"
     ]
    }
   ],
   "source": [
    "# Kiểm tra chuyên gia có lương lớn hơn 150000 Euro/năm\n",
    "df.filter((df['Salary'] > 150000)).orderBy('Salary').show(1000, True)"
   ]
  },
  {
   "cell_type": "code",
   "execution_count": 33,
   "id": "e160c97d",
   "metadata": {
    "scrolled": true
   },
   "outputs": [
    {
     "name": "stdout",
     "output_type": "stream",
     "text": [
      "+----------+--------+\n",
      "|Experience|  Salary|\n",
      "+----------+--------+\n",
      "|      11.0|154000.0|\n",
      "|      18.0|156000.0|\n",
      "|      18.0|160000.0|\n",
      "|      15.0|172000.0|\n",
      "|      11.0|180000.0|\n",
      "|      20.0|200000.0|\n",
      "|      20.0|200000.0|\n",
      "|      20.0|250000.0|\n",
      "|      18.0|850000.0|\n",
      "+----------+--------+\n",
      "\n"
     ]
    }
   ],
   "source": [
    "# Kiểm tra chuyên gia có lương lớn hơn 150000 Euro/năm và số năm kinh nghiệm lớn hơn 10 năm\n",
    "df.filter((df['Salary'] > 150000) & (df['Experience'] > 10)).orderBy('Salary').show(1000, True)"
   ]
  },
  {
   "cell_type": "code",
   "execution_count": 34,
   "id": "058fc955",
   "metadata": {},
   "outputs": [],
   "source": [
    "# Loại bỏ những dòng có số năm kinh nghiệm không phù hơp. \n",
    "df.createOrReplaceTempView(\"salary\")\n",
    "df = spark.sql(\"SELECT DOUBLE(Experience), DOUBLE(Salary) FROM salary WHERE Salary <= 150000\")\n",
    "df_temp = spark.sql(\"SELECT DOUBLE(Experience), DOUBLE(Salary) FROM salary WHERE Salary > 150000 AND Experience >= 10\")"
   ]
  },
  {
   "cell_type": "code",
   "execution_count": 35,
   "id": "4ea3ac4e",
   "metadata": {},
   "outputs": [
    {
     "name": "stdout",
     "output_type": "stream",
     "text": [
      "+-------+-----------------+-----------------+\n",
      "|summary|       Experience|           Salary|\n",
      "+-------+-----------------+-----------------+\n",
      "|  count|             1189|             1189|\n",
      "|   mean|8.616568544995793|  69309.713313709|\n",
      "| stddev|5.109608661445361|19583.12795338757|\n",
      "|    min|              0.0|          10001.0|\n",
      "|    max|             40.0|         150000.0|\n",
      "+-------+-----------------+-----------------+\n",
      "\n"
     ]
    }
   ],
   "source": [
    "# Tóm tắt và kiểm soát các số liệu thống kê cần tính toán trên df Dataframe\n",
    "df.describe().show()"
   ]
  },
  {
   "cell_type": "code",
   "execution_count": 36,
   "id": "fae03c9a",
   "metadata": {},
   "outputs": [
    {
     "name": "stdout",
     "output_type": "stream",
     "text": [
      "+-------+------------------+------------------+\n",
      "|summary|        Experience|            Salary|\n",
      "+-------+------------------+------------------+\n",
      "|  count|                11|                11|\n",
      "|   mean|15.545454545454545|243079.27272727274|\n",
      "| stddev|  4.25120303828543| 203405.5661131676|\n",
      "|    min|              10.0|          151872.0|\n",
      "|    max|              20.0|          850000.0|\n",
      "+-------+------------------+------------------+\n",
      "\n"
     ]
    }
   ],
   "source": [
    "# Tóm tắt và kiểm soát các số liệu thống kê cần tính toán trên df_temp Dataframe\n",
    "df_temp.describe().show()"
   ]
  },
  {
   "cell_type": "code",
   "execution_count": 37,
   "id": "6e0ceafe",
   "metadata": {},
   "outputs": [
    {
     "name": "stdout",
     "output_type": "stream",
     "text": [
      "+----------+--------+\n",
      "|Experience|  Salary|\n",
      "+----------+--------+\n",
      "|      10.0|200000.0|\n",
      "|      18.0|156000.0|\n",
      "|      11.0|180000.0|\n",
      "|      18.0|160000.0|\n",
      "|      11.0|154000.0|\n",
      "|      20.0|200000.0|\n",
      "|      20.0|250000.0|\n",
      "|      18.0|850000.0|\n",
      "|      10.0|151872.0|\n",
      "|      15.0|172000.0|\n",
      "|      20.0|200000.0|\n",
      "+----------+--------+\n",
      "\n"
     ]
    }
   ],
   "source": [
    "# Các giá trị có trong df_temp Dataframe\n",
    "df_temp.show()"
   ]
  },
  {
   "cell_type": "code",
   "execution_count": 38,
   "id": "905915f1",
   "metadata": {},
   "outputs": [],
   "source": [
    "# Sử dụng union để kết Dataframe df và df_temp là lưu vào df\n",
    "# df sẽ gồm những chuyên gia có mức lương từ 0 đến khoảng 150000 Euro/năm, đối với những chuyên gia có mức lương\n",
    "# trên 150000 Euro sẽ có số năm kinh nghiệm từ 10 năm trở lên\n",
    "df = df.union(df_temp)"
   ]
  },
  {
   "cell_type": "code",
   "execution_count": 39,
   "id": "91e4546e",
   "metadata": {},
   "outputs": [
    {
     "name": "stdout",
     "output_type": "stream",
     "text": [
      "+----------+--------+\n",
      "|Experience|  Salary|\n",
      "+----------+--------+\n",
      "|       5.0| 80000.0|\n",
      "|       7.0| 80000.0|\n",
      "|      12.0|120000.0|\n",
      "|       4.0| 54000.0|\n",
      "|      17.0| 62000.0|\n",
      "+----------+--------+\n",
      "only showing top 5 rows\n",
      "\n"
     ]
    }
   ],
   "source": [
    "df.show(5)"
   ]
  },
  {
   "cell_type": "code",
   "execution_count": 40,
   "id": "929c331c",
   "metadata": {},
   "outputs": [
    {
     "name": "stdout",
     "output_type": "stream",
     "text": [
      "+-------+-----------------+-----------------+\n",
      "|summary|       Experience|           Salary|\n",
      "+-------+-----------------+-----------------+\n",
      "|  count|             1200|             1200|\n",
      "|   mean|8.680083333333332|70902.60094166666|\n",
      "| stddev|5.143512881649265| 31615.4522105114|\n",
      "|    min|              0.0|          10001.0|\n",
      "|    max|             40.0|         850000.0|\n",
      "+-------+-----------------+-----------------+\n",
      "\n"
     ]
    }
   ],
   "source": [
    "# Tóm tắt và kiểm soát các số liệu thống kê cần tính toán trên df Dataframe\n",
    "df.describe().show()"
   ]
  },
  {
   "cell_type": "code",
   "execution_count": 41,
   "id": "f6f09553",
   "metadata": {},
   "outputs": [],
   "source": [
    "# Lấy ra thông tin trường \"Salary\" và đưa giá trị của trường \"salary\" vào DataFrame để \n",
    "# tiến hành kiểm tra ngoại lệ thông qua trực quan hóa\n",
    "sala = df.rdd.map(lambda p: (p.Salary)).collect()\n",
    "salary_value = DataFrame({'salary': sala})"
   ]
  },
  {
   "cell_type": "code",
   "execution_count": 42,
   "id": "afd7a10d",
   "metadata": {
    "scrolled": true
   },
   "outputs": [
    {
     "data": {
      "image/png": "[encoded data removed]",
      "text/plain": [
       "<Figure size 1080x360 with 2 Axes>"
      ]
     },
     "metadata": {
      "needs_background": "light"
     },
     "output_type": "display_data"
    }
   ],
   "source": [
    "# Trực quan hóa phân bổ và ngoại lệ của trường \"salary\"\n",
    "fig, axes = plt.subplots(nrows=1, ncols=2, figsize=(15, 5))\n",
    "salary_value['salary'].hist(bins=50, ax=axes[0], alpha=0.7)\n",
    "salary_value['salary'].to_frame().boxplot(ax=axes[1], vert=True);"
   ]
  },
  {
   "cell_type": "code",
   "execution_count": 43,
   "id": "ab5f1d5d",
   "metadata": {
    "scrolled": true
   },
   "outputs": [
    {
     "data": {
      "text/html": [
       "<div>\n",
       "<style scoped>\n",
       "    .dataframe tbody tr th:only-of-type {\n",
       "        vertical-align: middle;\n",
       "    }\n",
       "\n",
       "    .dataframe tbody tr th {\n",
       "        vertical-align: top;\n",
       "    }\n",
       "\n",
       "    .dataframe thead th {\n",
       "        text-align: right;\n",
       "    }\n",
       "</style>\n",
       "<table border=\"1\" class=\"dataframe\">\n",
       "  <thead>\n",
       "    <tr style=\"text-align: right;\">\n",
       "      <th></th>\n",
       "      <th>Age</th>\n",
       "      <th>Position</th>\n",
       "      <th>Your main technology / programming language</th>\n",
       "      <th>Total years of experience</th>\n",
       "      <th>Yearly brutto salary (without bonus and stocks) in EUR</th>\n",
       "    </tr>\n",
       "  </thead>\n",
       "  <tbody>\n",
       "    <tr>\n",
       "      <th>16</th>\n",
       "      <td>53.0</td>\n",
       "      <td>Frontend Developer</td>\n",
       "      <td>Java, Javascript</td>\n",
       "      <td>15</td>\n",
       "      <td>50000.0</td>\n",
       "    </tr>\n",
       "    <tr>\n",
       "      <th>24</th>\n",
       "      <td>45.0</td>\n",
       "      <td>Frontend Developer</td>\n",
       "      <td>Javascript / Typescript</td>\n",
       "      <td>3</td>\n",
       "      <td>70000.0</td>\n",
       "    </tr>\n",
       "    <tr>\n",
       "      <th>60</th>\n",
       "      <td>42.0</td>\n",
       "      <td>Frontend Developer</td>\n",
       "      <td>React JS</td>\n",
       "      <td>18</td>\n",
       "      <td>850000.0</td>\n",
       "    </tr>\n",
       "    <tr>\n",
       "      <th>11</th>\n",
       "      <td>40.0</td>\n",
       "      <td>Frontend Developer</td>\n",
       "      <td>Javascript</td>\n",
       "      <td>7</td>\n",
       "      <td>54000.0</td>\n",
       "    </tr>\n",
       "    <tr>\n",
       "      <th>61</th>\n",
       "      <td>39.0</td>\n",
       "      <td>Frontend Developer</td>\n",
       "      <td>Javascript</td>\n",
       "      <td>10</td>\n",
       "      <td>85000.0</td>\n",
       "    </tr>\n",
       "  </tbody>\n",
       "</table>\n",
       "</div>"
      ],
      "text/plain": [
       "     Age           Position  Your main technology / programming language  \\\n",
       "16  53.0  Frontend Developer                            Java, Javascript   \n",
       "24  45.0  Frontend Developer                     Javascript / Typescript   \n",
       "60  42.0  Frontend Developer                                    React JS   \n",
       "11  40.0  Frontend Developer                                  Javascript   \n",
       "61  39.0  Frontend Developer                                  Javascript   \n",
       "\n",
       "   Total years of experience  \\\n",
       "16                        15   \n",
       "24                         3   \n",
       "60                        18   \n",
       "11                         7   \n",
       "61                        10   \n",
       "\n",
       "    Yearly brutto salary (without bonus and stocks) in EUR  \n",
       "16                                            50000.0       \n",
       "24                                            70000.0       \n",
       "60                                           850000.0       \n",
       "11                                            54000.0       \n",
       "61                                            85000.0       "
      ]
     },
     "execution_count": 43,
     "metadata": {},
     "output_type": "execute_result"
    }
   ],
   "source": [
    "# Kiểm tra chuyên gia có số năm kinh nghiệm lớn hơn 23 năm\n",
    "df1.filter(df1[\"Position \"] == \"Frontend Developer\").toPandas().sort_values(by=\"Age\", ascending=False).head()"
   ]
  },
  {
   "cell_type": "code",
   "execution_count": 44,
   "id": "7a122cec",
   "metadata": {},
   "outputs": [],
   "source": [
    "# Loại bỏ những dòng có số năm kinh nghiệm không phù hơp. \n",
    "df.createOrReplaceTempView(\"salary1\")\n",
    "df = spark.sql(\"SELECT DOUBLE(Experience), DOUBLE(Salary) FROM salary1 WHERE Salary < 400000\")"
   ]
  },
  {
   "cell_type": "code",
   "execution_count": 45,
   "id": "a5026eed",
   "metadata": {
    "scrolled": true
   },
   "outputs": [
    {
     "name": "stdout",
     "output_type": "stream",
     "text": [
      "+-------+-----------------+------------------+\n",
      "|summary|       Experience|            Salary|\n",
      "+-------+-----------------+------------------+\n",
      "|  count|             1199|              1199|\n",
      "|   mean|8.672310258548789| 70252.81161801501|\n",
      "| stddev|5.138603181304364|22209.836270869295|\n",
      "|    min|              0.0|           10001.0|\n",
      "|    max|             40.0|          250000.0|\n",
      "+-------+-----------------+------------------+\n",
      "\n"
     ]
    }
   ],
   "source": [
    "df.describe().show()"
   ]
  },
  {
   "cell_type": "code",
   "execution_count": 46,
   "id": "ebf68ab9",
   "metadata": {},
   "outputs": [],
   "source": [
    "# Lấy ra thông tin trường \"Salary\" và đưa giá trị của trường \"salary\" vào DataFrame để \n",
    "# tiến hành kiểm tra ngoại lệ thông qua trực quan hóa\n",
    "sala = df.rdd.map(lambda p: (p.Salary)).collect()\n",
    "salary_value = DataFrame({'salary': sala})"
   ]
  },
  {
   "cell_type": "code",
   "execution_count": 47,
   "id": "8702119e",
   "metadata": {},
   "outputs": [
    {
     "data": {
      "image/png": "[encoded data removed]",
      "text/plain": [
       "<Figure size 1080x360 with 2 Axes>"
      ]
     },
     "metadata": {
      "needs_background": "light"
     },
     "output_type": "display_data"
    }
   ],
   "source": [
    "# Trực quan hóa phân bổ và ngoại lệ của trường \"salary\"\n",
    "fig, axes = plt.subplots(nrows=1, ncols=2, figsize=(15, 5))\n",
    "salary_value['salary'].hist(bins=50, ax=axes[0], alpha=0.7)\n",
    "salary_value['salary'].to_frame().boxplot(ax=axes[1], vert=True);"
   ]
  },
  {
   "cell_type": "code",
   "execution_count": 48,
   "id": "6d37382f",
   "metadata": {},
   "outputs": [
    {
     "name": "stdout",
     "output_type": "stream",
     "text": [
      "+----------+--------+\n",
      "|Experience|  Salary|\n",
      "+----------+--------+\n",
      "|      20.0|250000.0|\n",
      "+----------+--------+\n",
      "\n"
     ]
    }
   ],
   "source": [
    "# Kiểm tra chuyên gia có lương lớn hơn 200000 Euro/năm\n",
    "df.filter((df['Salary'] > 200000)).orderBy('Salary').show(1000, True)"
   ]
  },
  {
   "cell_type": "code",
   "execution_count": 49,
   "id": "789ee768",
   "metadata": {},
   "outputs": [
    {
     "name": "stdout",
     "output_type": "stream",
     "text": [
      "+----------+-------+\n",
      "|Experience| Salary|\n",
      "+----------+-------+\n",
      "|       2.5|20000.0|\n",
      "|       3.0|10164.0|\n",
      "|       2.0|12000.0|\n",
      "|       4.0|24000.0|\n",
      "|       2.0|13000.0|\n",
      "+----------+-------+\n",
      "only showing top 5 rows\n",
      "\n"
     ]
    }
   ],
   "source": [
    "# Kiểm tra chuyên gia có lương nhỏ hơn 25000 Euro/năm\n",
    "df.filter((df['Salary'] < 25000)).show(5, True)"
   ]
  },
  {
   "cell_type": "code",
   "execution_count": 50,
   "id": "8a7a11dd",
   "metadata": {
    "scrolled": true
   },
   "outputs": [
    {
     "name": "stdout",
     "output_type": "stream",
     "text": [
      "+-------+-----------------+------------------+\n",
      "|summary|       Experience|            Salary|\n",
      "+-------+-----------------+------------------+\n",
      "|  count|             1199|              1199|\n",
      "|   mean|8.672310258548789| 70252.81161801501|\n",
      "| stddev|5.138603181304364|22209.836270869295|\n",
      "|    min|              0.0|           10001.0|\n",
      "|    max|             40.0|          250000.0|\n",
      "+-------+-----------------+------------------+\n",
      "\n"
     ]
    }
   ],
   "source": [
    "df.describe().show()"
   ]
  },
  {
   "cell_type": "markdown",
   "id": "2abcdbc9",
   "metadata": {},
   "source": [
    "# III. Trực quan hóa dữ liệu"
   ]
  },
  {
   "cell_type": "code",
   "execution_count": 51,
   "id": "ab53b6df",
   "metadata": {},
   "outputs": [],
   "source": [
    "x = df.rdd.map(lambda p: (p.Experience)).collect()\n",
    "y = df.rdd.map(lambda p: (p.Salary)).collect()"
   ]
  },
  {
   "cell_type": "code",
   "execution_count": 52,
   "id": "41b95fe8",
   "metadata": {},
   "outputs": [],
   "source": [
    "data_df = DataFrame({'experience': x, 'salary': y})"
   ]
  },
  {
   "cell_type": "markdown",
   "id": "4d176069",
   "metadata": {},
   "source": [
    "## 1. Trực quan hóa nhóm năm kinh nghiệm của các chuyên gia"
   ]
  },
  {
   "cell_type": "code",
   "execution_count": 53,
   "id": "c079bec0",
   "metadata": {},
   "outputs": [
    {
     "data": {
      "image/png": "[encoded data removed]",
      "text/plain": [
       "<Figure size 720x432 with 1 Axes>"
      ]
     },
     "metadata": {
      "needs_background": "light"
     },
     "output_type": "display_data"
    }
   ],
   "source": [
    "data_df['experience_group'] = pd.cut(data_df.experience, bins=[0, 1, 3, 5, 7, 9, 12, 15, 22, 25, 32, 40])\n",
    "data_df.experience_group.value_counts().sort_index().plot(kind='bar', figsize=(10,6))\n",
    "plt.xlabel('Year of experience', fontsize= 13)\n",
    "plt.ylabel('Conut', fontsize = 13)\n",
    "plt.grid()\n",
    "plt.show()"
   ]
  },
  {
   "cell_type": "markdown",
   "id": "50b87e1c",
   "metadata": {},
   "source": [
    "## 2. Trực quan hóa trung bình lương theo nhóm năm kinh nghiệm"
   ]
  },
  {
   "cell_type": "code",
   "execution_count": 54,
   "id": "351336b1",
   "metadata": {},
   "outputs": [
    {
     "data": {
      "image/png": "[encoded data removed]",
      "text/plain": [
       "<Figure size 720x432 with 1 Axes>"
      ]
     },
     "metadata": {
      "needs_background": "light"
     },
     "output_type": "display_data"
    }
   ],
   "source": [
    "plt.figure(figsize=(10, 6))\n",
    "sns.barplot(data = data_df, x='experience_group', y='salary', palette='crest')\n",
    "plt.title('The Average salary for each experience', fontsize= 16)\n",
    "plt.xlabel('Year of experience', fontsize= 13)\n",
    "plt.ylabel('Salary', fontsize = 13)\n",
    "plt.show();"
   ]
  },
  {
   "cell_type": "markdown",
   "id": "37e704ec",
   "metadata": {},
   "source": [
    "## 3. Trực quan hóa sự phân bổ giữa lương và số năm kinh nghiệm"
   ]
  },
  {
   "cell_type": "code",
   "execution_count": 55,
   "id": "e6465edf",
   "metadata": {
    "scrolled": false
   },
   "outputs": [
    {
     "data": {
      "image/png": "[encoded data removed]",
      "text/plain": [
       "<Figure size 720x432 with 1 Axes>"
      ]
     },
     "metadata": {
      "needs_background": "light"
     },
     "output_type": "display_data"
    }
   ],
   "source": [
    "plt.figure(figsize=(10, 6))\n",
    "plt.title('Salary vs Year of experience', fontsize=\"13\")\n",
    "plt.xlabel('Year of experience', fontsize= 13)\n",
    "plt.ylabel('Salary', fontsize = 13)\n",
    "plt.scatter(x, y, alpha=0.3)\n",
    "plt.show()"
   ]
  },
  {
   "cell_type": "markdown",
   "id": "759d2c63",
   "metadata": {},
   "source": [
    "# IV. Chuẩn bị dữ liệu"
   ]
  },
  {
   "cell_type": "markdown",
   "id": "22cb59e7",
   "metadata": {},
   "source": [
    "## 1. Cắt dữ liệu thành hai phần Feature (X) và Target (y)"
   ]
  },
  {
   "cell_type": "code",
   "execution_count": 56,
   "id": "68dd7904",
   "metadata": {
    "scrolled": true
   },
   "outputs": [
    {
     "name": "stdout",
     "output_type": "stream",
     "text": [
      "+----------+--------+\n",
      "|Experience|  Salary|\n",
      "+----------+--------+\n",
      "|       5.0| 80000.0|\n",
      "|       7.0| 80000.0|\n",
      "|      12.0|120000.0|\n",
      "|       4.0| 54000.0|\n",
      "|      17.0| 62000.0|\n",
      "|       5.0| 76000.0|\n",
      "|       6.0| 57000.0|\n",
      "|       5.0| 65000.0|\n",
      "|       8.0| 56000.0|\n",
      "|      15.0| 95000.0|\n",
      "|       2.0| 52500.0|\n",
      "|      14.0| 70000.0|\n",
      "|      11.0| 75000.0|\n",
      "|       5.0| 75000.0|\n",
      "|       7.0| 60350.0|\n",
      "|      18.0| 78000.0|\n",
      "|       8.0| 60000.0|\n",
      "|      11.0| 80000.0|\n",
      "|      13.0|103000.0|\n",
      "|      15.0|100000.0|\n",
      "+----------+--------+\n",
      "only showing top 20 rows\n",
      "\n"
     ]
    }
   ],
   "source": [
    "df.show()"
   ]
  },
  {
   "cell_type": "code",
   "execution_count": 57,
   "id": "4ad5041a",
   "metadata": {},
   "outputs": [],
   "source": [
    "# Cắt dữ liệu thành hai phần. \n",
    "df.createOrReplaceTempView(\"split\")\n",
    "X = spark.sql(\"SELECT DOUBLE(Experience) FROM split\")\n",
    "y = spark.sql(\"SELECT DOUBLE(Salary) FROM split\")"
   ]
  },
  {
   "cell_type": "code",
   "execution_count": 58,
   "id": "e135ee1d",
   "metadata": {},
   "outputs": [
    {
     "name": "stdout",
     "output_type": "stream",
     "text": [
      "+----------+\n",
      "|Experience|\n",
      "+----------+\n",
      "|       5.0|\n",
      "|       7.0|\n",
      "|      12.0|\n",
      "|       4.0|\n",
      "|      17.0|\n",
      "+----------+\n",
      "only showing top 5 rows\n",
      "\n"
     ]
    }
   ],
   "source": [
    "X.show(5)"
   ]
  },
  {
   "cell_type": "code",
   "execution_count": 59,
   "id": "e3e4ad81",
   "metadata": {},
   "outputs": [
    {
     "name": "stdout",
     "output_type": "stream",
     "text": [
      "+--------+\n",
      "|  Salary|\n",
      "+--------+\n",
      "| 80000.0|\n",
      "| 80000.0|\n",
      "|120000.0|\n",
      "| 54000.0|\n",
      "| 62000.0|\n",
      "+--------+\n",
      "only showing top 5 rows\n",
      "\n"
     ]
    }
   ],
   "source": [
    "y.show(5)"
   ]
  },
  {
   "cell_type": "markdown",
   "id": "80e664b1",
   "metadata": {},
   "source": [
    "## 2. Feature scaling - Chuyển các đặc trưng về cùng một thang đo chung"
   ]
  },
  {
   "cell_type": "code",
   "execution_count": 60,
   "id": "2ef435a1",
   "metadata": {},
   "outputs": [],
   "source": [
    "def normalize(data, col):\n",
    "    max = data.agg({col: \"max\"}).collect()[0][0]\n",
    "    min = data.agg({col: \"min\"}).collect()[0][0]\n",
    "    data = data.withColumn(col, ((data[col] - min) / (max - min)))\n",
    "    return data"
   ]
  },
  {
   "cell_type": "code",
   "execution_count": 61,
   "id": "3e74ff83",
   "metadata": {
    "scrolled": true
   },
   "outputs": [
    {
     "data": {
      "text/plain": [
       "40.0"
      ]
     },
     "execution_count": 61,
     "metadata": {},
     "output_type": "execute_result"
    }
   ],
   "source": [
    "X.agg({\"Experience\": \"max\"}).collect()[0][0]"
   ]
  },
  {
   "cell_type": "code",
   "execution_count": 62,
   "id": "b72c814f",
   "metadata": {},
   "outputs": [
    {
     "data": {
      "text/plain": [
       "0.0"
      ]
     },
     "execution_count": 62,
     "metadata": {},
     "output_type": "execute_result"
    }
   ],
   "source": [
    "X.agg({\"Experience\": \"min\"}).collect()[0][0]"
   ]
  },
  {
   "cell_type": "code",
   "execution_count": 63,
   "id": "aa7b11e4",
   "metadata": {
    "scrolled": false
   },
   "outputs": [],
   "source": [
    "X_norm = normalize(X, 'Experience') "
   ]
  },
  {
   "cell_type": "code",
   "execution_count": 64,
   "id": "1fbfc745",
   "metadata": {},
   "outputs": [],
   "source": [
    "y_norm = normalize(y, 'Salary') "
   ]
  },
  {
   "cell_type": "markdown",
   "id": "995366d4",
   "metadata": {},
   "source": [
    "## 3. Chia dữ liệu trên tập Feature và tập Target thành 2 tập train và test"
   ]
  },
  {
   "cell_type": "code",
   "execution_count": 65,
   "id": "a9570f97",
   "metadata": {},
   "outputs": [],
   "source": [
    "X_train, X_test = X_norm.randomSplit([0.7, 0.3], seed=2)\n",
    "y_train, y_test = y_norm.randomSplit([0.7, 0.3], seed=2)"
   ]
  },
  {
   "cell_type": "code",
   "execution_count": 66,
   "id": "992a87f2",
   "metadata": {},
   "outputs": [
    {
     "name": "stdout",
     "output_type": "stream",
     "text": [
      "+-------+-------------------+\n",
      "|summary|         Experience|\n",
      "+-------+-------------------+\n",
      "|  count|                839|\n",
      "|   mean| 0.2162425506555423|\n",
      "| stddev|0.12837269025207668|\n",
      "|    min|                0.0|\n",
      "|    max|                1.0|\n",
      "+-------+-------------------+\n",
      "\n"
     ]
    }
   ],
   "source": [
    "X_train.describe().show()"
   ]
  },
  {
   "cell_type": "code",
   "execution_count": 67,
   "id": "9f1b0240",
   "metadata": {},
   "outputs": [
    {
     "name": "stdout",
     "output_type": "stream",
     "text": [
      "+-------+------------------+\n",
      "|summary|        Experience|\n",
      "+-------+------------------+\n",
      "|  count|               360|\n",
      "|   mean|          0.218125|\n",
      "| stddev|0.1288493308854877|\n",
      "|    min|               0.0|\n",
      "|    max|             0.775|\n",
      "+-------+------------------+\n",
      "\n"
     ]
    }
   ],
   "source": [
    "X_test.describe().show()"
   ]
  },
  {
   "cell_type": "code",
   "execution_count": 68,
   "id": "ffa8c876",
   "metadata": {},
   "outputs": [
    {
     "name": "stdout",
     "output_type": "stream",
     "text": [
      "+-------+-------------------+\n",
      "|summary|             Salary|\n",
      "+-------+-------------------+\n",
      "|  count|                839|\n",
      "|   mean|0.24961371387517856|\n",
      "| stddev|0.08855790116912779|\n",
      "|    min|                0.0|\n",
      "|    max| 0.7916657986074942|\n",
      "+-------+-------------------+\n",
      "\n"
     ]
    }
   ],
   "source": [
    "y_train.describe().show()"
   ]
  },
  {
   "cell_type": "code",
   "execution_count": 69,
   "id": "61bd9b22",
   "metadata": {},
   "outputs": [
    {
     "name": "stdout",
     "output_type": "stream",
     "text": [
      "+-------+--------------------+\n",
      "|summary|              Salary|\n",
      "+-------+--------------------+\n",
      "|  count|                 360|\n",
      "|   mean| 0.25439821427496634|\n",
      "| stddev| 0.10127014060217887|\n",
      "|    min|0.006245859357747324|\n",
      "|    max|                 1.0|\n",
      "+-------+--------------------+\n",
      "\n"
     ]
    }
   ],
   "source": [
    "y_test.describe().show()"
   ]
  },
  {
   "cell_type": "markdown",
   "id": "7c6adae9",
   "metadata": {},
   "source": [
    "# V. Tạo và ứng dụng mô hình Linear Regression - Hồi quy tuyến tính"
   ]
  },
  {
   "cell_type": "markdown",
   "id": "ce8d5212",
   "metadata": {},
   "source": [
    "## 1. Hướng tiếp cận 1"
   ]
  },
  {
   "cell_type": "markdown",
   "id": "82013a63",
   "metadata": {},
   "source": [
    "### a. HTC1 - Tạo mô hình hồi quy tuyến tính"
   ]
  },
  {
   "cell_type": "code",
   "execution_count": 70,
   "id": "43f537bf",
   "metadata": {},
   "outputs": [],
   "source": [
    "# rdd_X_train = X_train.rdd\n",
    "rdd_X_train = X_train.rdd.map(list)\n",
    "rdd_y_train = y_train.rdd.map(list)"
   ]
  },
  {
   "cell_type": "code",
   "execution_count": 71,
   "id": "baeb1c7f",
   "metadata": {},
   "outputs": [],
   "source": [
    "# rdd_X_train = X_train.rdd\n",
    "rdd_X_test = X_test.rdd.map(list)\n",
    "rdd_y_test = y_test.rdd.map(list)"
   ]
  },
  {
   "cell_type": "code",
   "execution_count": 72,
   "id": "d99fe889",
   "metadata": {},
   "outputs": [
    {
     "data": {
      "text/plain": [
       "839"
      ]
     },
     "execution_count": 72,
     "metadata": {},
     "output_type": "execute_result"
    }
   ],
   "source": [
    "rdd_X_train.count()"
   ]
  },
  {
   "cell_type": "code",
   "execution_count": 73,
   "id": "757bdba3",
   "metadata": {},
   "outputs": [
    {
     "data": {
      "text/plain": [
       "839"
      ]
     },
     "execution_count": 73,
     "metadata": {},
     "output_type": "execute_result"
    }
   ],
   "source": [
    "rdd_y_train.count()"
   ]
  },
  {
   "cell_type": "code",
   "execution_count": 74,
   "id": "dd5a77ca",
   "metadata": {},
   "outputs": [],
   "source": [
    "# Tính giá trị trung bình của một danh sách các số\n",
    "def mean(data):\n",
    "    sum = data.reduce(lambda a, b: a + b)\n",
    "    return sum / data.count()"
   ]
  },
  {
   "cell_type": "code",
   "execution_count": 75,
   "id": "178dd18b",
   "metadata": {},
   "outputs": [],
   "source": [
    "# Tính phương sai của một danh sách các số\n",
    "def variance(data, mean):\n",
    "    variance = data.map(lambda a: (a - mean) ** 2)\n",
    "    result = variance.reduce(lambda a, b: a + b)\n",
    "    return result"
   ]
  },
  {
   "cell_type": "code",
   "execution_count": 76,
   "id": "38fbab69",
   "metadata": {},
   "outputs": [],
   "source": [
    "# Chuyển rdd_X_train thành danh sách các giá trị\n",
    "rdd_X_train_1 = rdd_X_train.map(lambda a: a[0])"
   ]
  },
  {
   "cell_type": "code",
   "execution_count": 77,
   "id": "f09e8108",
   "metadata": {
    "scrolled": true
   },
   "outputs": [
    {
     "data": {
      "text/plain": [
       "[0.0, 0.0, 0.0, 0.0, 0.0, 0.02, 0.02, 0.025, 0.025, 0.025]"
      ]
     },
     "execution_count": 77,
     "metadata": {},
     "output_type": "execute_result"
    }
   ],
   "source": [
    "rdd_X_train_1.take(10)"
   ]
  },
  {
   "cell_type": "code",
   "execution_count": 78,
   "id": "28e1b001",
   "metadata": {},
   "outputs": [],
   "source": [
    "# Giá trị trung bình của X_train\n",
    "mean_X_train = mean(rdd_X_train_1)"
   ]
  },
  {
   "cell_type": "code",
   "execution_count": 79,
   "id": "d4b19a04",
   "metadata": {},
   "outputs": [],
   "source": [
    "# Phương sai của X_train\n",
    "variance_X_train = variance(rdd_X_train_1, mean_X_train)"
   ]
  },
  {
   "cell_type": "code",
   "execution_count": 80,
   "id": "a647639e",
   "metadata": {},
   "outputs": [],
   "source": [
    "# Chuyển rdd_y_train thành danh sách các giá trị\n",
    "rdd_y_train_1 = rdd_y_train.map(lambda a: a[0])"
   ]
  },
  {
   "cell_type": "code",
   "execution_count": 81,
   "id": "c5e3ac5d",
   "metadata": {},
   "outputs": [
    {
     "data": {
      "text/plain": [
       "[0.0,\n",
       " 0.0,\n",
       " 0.0006791694965395689,\n",
       " 0.004162517343822266,\n",
       " 0.008329201371672382,\n",
       " 0.008329201371672382,\n",
       " 0.012495885399522498,\n",
       " 0.019629248455201895,\n",
       " 0.03124596352484802,\n",
       " 0.03624598435826816]"
      ]
     },
     "execution_count": 81,
     "metadata": {},
     "output_type": "execute_result"
    }
   ],
   "source": [
    "rdd_y_train_1.take(10)"
   ]
  },
  {
   "cell_type": "code",
   "execution_count": 82,
   "id": "5dd1761c",
   "metadata": {},
   "outputs": [],
   "source": [
    "# Giá trị trung bình của y_train\n",
    "mean_y_train = mean(rdd_y_train_1)"
   ]
  },
  {
   "cell_type": "code",
   "execution_count": 83,
   "id": "208f9927",
   "metadata": {},
   "outputs": [],
   "source": [
    "# Phương sai của y_train\n",
    "variance_y_train = variance(rdd_y_train_1, mean_y_train)"
   ]
  },
  {
   "cell_type": "code",
   "execution_count": 84,
   "id": "90cace08",
   "metadata": {},
   "outputs": [
    {
     "name": "stdout",
     "output_type": "stream",
     "text": [
      ">>>> X_train: Giá trị trung bình - Mean = 0.2162425506555423; Phương sai - Variance = 13.809860890941568\n",
      ">>>> y_train: Giá trị trung bình - Mean = 0.24961371387517856; Phương sai - Variance = 6.572016558245068\n"
     ]
    }
   ],
   "source": [
    "print(\">>>> X_train: Giá trị trung bình - Mean = \" + str(mean_X_train) + \"; Phương sai - Variance = \" + str(variance_X_train))\n",
    "print(\">>>> y_train: Giá trị trung bình - Mean = \" + str(mean_y_train) + \"; Phương sai - Variance = \" + str(variance_y_train))"
   ]
  },
  {
   "cell_type": "code",
   "execution_count": 85,
   "id": "52f571c5",
   "metadata": {},
   "outputs": [],
   "source": [
    "# Tính hiệp phương sai giữa x và y\n",
    "def covariance(X, mean_X, y, mean_y):\n",
    "    result = 0.0\n",
    "    common_rdd = rdd_X_train_1.zip(rdd_y_train_1)\n",
    "    covar_rdd = common_rdd.map(lambda a: (a[0] - mean_X) * (a[1] - mean_y))\n",
    "    result += covar_rdd.reduce(lambda a, b: a + b)\n",
    "    return result"
   ]
  },
  {
   "cell_type": "code",
   "execution_count": 86,
   "id": "2777fd93",
   "metadata": {},
   "outputs": [
    {
     "name": "stdout",
     "output_type": "stream",
     "text": [
      ">>>> Hiệp phương sai - Covariance = 8.865735217691439\n"
     ]
    }
   ],
   "source": [
    "# Hiệp phương sai giữa X_train và y_train\n",
    "covar = covariance(rdd_X_train_1, mean_X_train, rdd_y_train_1, mean_y_train)\n",
    "print(\">>>> Hiệp phương sai - Covariance = \" + str(covar))"
   ]
  },
  {
   "cell_type": "code",
   "execution_count": 87,
   "id": "923e44be",
   "metadata": {},
   "outputs": [],
   "source": [
    "# Tính toán các hệ số\n",
    "def coefficients(X, y):\n",
    "    X_mean, y_mean = mean(X), mean(y)\n",
    "    b1 = covariance(X, X_mean, y, y_mean) / variance(X, X_mean)\n",
    "    b0 = y_mean - b1 * X_mean\n",
    "    return [b0, b1]"
   ]
  },
  {
   "cell_type": "code",
   "execution_count": 88,
   "id": "142ef463",
   "metadata": {},
   "outputs": [
    {
     "name": "stdout",
     "output_type": "stream",
     "text": [
      ">>>> Hệ số - Coefficients = [0.11078905720048315, 0.6419858453104929]\n"
     ]
    }
   ],
   "source": [
    "# Hệ số của mô hình\n",
    "coef = coefficients(rdd_X_train_1, rdd_y_train_1)\n",
    "print(\">>>> Hệ số - Coefficients = \" + str(coef))"
   ]
  },
  {
   "cell_type": "code",
   "execution_count": 89,
   "id": "616f55e4",
   "metadata": {},
   "outputs": [],
   "source": [
    "# Mô hình hồi quy tuyến tính để dự báo lương\n",
    "def simple_linear_regression(X_train, y_train, X_test):\n",
    "    coef = coefficients(X_train, y_train)\n",
    "    b0 = coef[0]\n",
    "    b1 = coef[1]\n",
    "    yhat = X_test.map(lambda a: a * b1 + b0)\n",
    "    return yhat"
   ]
  },
  {
   "cell_type": "markdown",
   "id": "49c18541",
   "metadata": {},
   "source": [
    "### b. HTC1 - Ứng dụng mô hình hồi quy tuyến tính trên tập dữ liệu test"
   ]
  },
  {
   "cell_type": "code",
   "execution_count": 90,
   "id": "5e6114ab",
   "metadata": {},
   "outputs": [],
   "source": [
    "# Chuyển rdd_X_test thành danh sách các giá trị\n",
    "rdd_X_test_1 = rdd_X_test.map(lambda a: a[0])"
   ]
  },
  {
   "cell_type": "code",
   "execution_count": 91,
   "id": "41090f26",
   "metadata": {},
   "outputs": [
    {
     "name": "stdout",
     "output_type": "stream",
     "text": [
      ">>>> Run time:0.75697922706604(s)\n"
     ]
    }
   ],
   "source": [
    "# RDD prediction lưu trữ kết quả dự đoán mức lương\n",
    "start = time.time()\n",
    "prediction = simple_linear_regression(rdd_X_train_1, rdd_y_train_1, rdd_X_test_1)\n",
    "end = time.time()\n",
    "run_time_HTC1 = end - start\n",
    "print(\">>>> Run time:\" + str(run_time_HTC1) + \"(s)\")"
   ]
  },
  {
   "cell_type": "code",
   "execution_count": 92,
   "id": "3150afae",
   "metadata": {},
   "outputs": [
    {
     "data": {
      "text/plain": [
       "[0.11078905720048315,\n",
       " 0.12683870333324548,\n",
       " 0.12683870333324548,\n",
       " 0.12683870333324548,\n",
       " 0.12683870333324548,\n",
       " 0.12683870333324548,\n",
       " 0.12683870333324548,\n",
       " 0.12683870333324548,\n",
       " 0.12683870333324548,\n",
       " 0.13486352639962662,\n",
       " 0.1428883494660078,\n",
       " 0.1428883494660078,\n",
       " 0.1428883494660078,\n",
       " 0.1428883494660078,\n",
       " 0.1428883494660078,\n",
       " 0.1428883494660078,\n",
       " 0.1428883494660078,\n",
       " 0.1428883494660078,\n",
       " 0.1428883494660078,\n",
       " 0.1428883494660078,\n",
       " 0.1428883494660078,\n",
       " 0.1428883494660078,\n",
       " 0.1428883494660078,\n",
       " 0.1428883494660078,\n",
       " 0.1428883494660078,\n",
       " 0.1428883494660078,\n",
       " 0.15091317253238895,\n",
       " 0.15091317253238895,\n",
       " 0.15893799559877012,\n",
       " 0.15893799559877012,\n",
       " 0.15893799559877012,\n",
       " 0.15893799559877012,\n",
       " 0.15893799559877012,\n",
       " 0.15893799559877012,\n",
       " 0.15893799559877012,\n",
       " 0.15893799559877012,\n",
       " 0.15893799559877012,\n",
       " 0.15893799559877012,\n",
       " 0.15893799559877012,\n",
       " 0.15893799559877012,\n",
       " 0.15893799559877012,\n",
       " 0.15893799559877012,\n",
       " 0.15893799559877012,\n",
       " 0.15893799559877012,\n",
       " 0.16696281866515128,\n",
       " 0.16696281866515128,\n",
       " 0.17498764173153245,\n",
       " 0.17498764173153245,\n",
       " 0.17498764173153245,\n",
       " 0.17498764173153245,\n",
       " 0.17498764173153245,\n",
       " 0.17498764173153245,\n",
       " 0.17498764173153245,\n",
       " 0.17498764173153245,\n",
       " 0.17498764173153245,\n",
       " 0.17498764173153245,\n",
       " 0.17498764173153245,\n",
       " 0.17498764173153245,\n",
       " 0.17498764173153245,\n",
       " 0.17498764173153245,\n",
       " 0.17498764173153245,\n",
       " 0.17498764173153245,\n",
       " 0.17498764173153245,\n",
       " 0.17498764173153245,\n",
       " 0.17498764173153245,\n",
       " 0.17498764173153245,\n",
       " 0.17498764173153245,\n",
       " 0.17498764173153245,\n",
       " 0.17498764173153245,\n",
       " 0.17498764173153245,\n",
       " 0.17498764173153245,\n",
       " 0.17498764173153245,\n",
       " 0.17498764173153245,\n",
       " 0.17498764173153245,\n",
       " 0.17498764173153245,\n",
       " 0.17498764173153245,\n",
       " 0.17498764173153245,\n",
       " 0.17498764173153245,\n",
       " 0.19103728786429475,\n",
       " 0.19103728786429475,\n",
       " 0.19103728786429475,\n",
       " 0.19103728786429475,\n",
       " 0.19103728786429475,\n",
       " 0.19103728786429475,\n",
       " 0.19103728786429475,\n",
       " 0.19103728786429475,\n",
       " 0.19103728786429475,\n",
       " 0.19103728786429475,\n",
       " 0.19103728786429475,\n",
       " 0.19103728786429475,\n",
       " 0.19103728786429475,\n",
       " 0.19103728786429475,\n",
       " 0.19103728786429475,\n",
       " 0.19103728786429475,\n",
       " 0.19103728786429475,\n",
       " 0.19103728786429475,\n",
       " 0.19103728786429475,\n",
       " 0.19103728786429475,\n",
       " 0.19103728786429475,\n",
       " 0.19103728786429475,\n",
       " 0.19103728786429475,\n",
       " 0.19103728786429475,\n",
       " 0.19103728786429475,\n",
       " 0.19103728786429475,\n",
       " 0.19103728786429475,\n",
       " 0.19103728786429475,\n",
       " 0.19103728786429475,\n",
       " 0.19103728786429475,\n",
       " 0.19103728786429475,\n",
       " 0.19103728786429475,\n",
       " 0.19103728786429475,\n",
       " 0.19103728786429475,\n",
       " 0.19103728786429475,\n",
       " 0.19103728786429475,\n",
       " 0.19103728786429475,\n",
       " 0.19906211093067594,\n",
       " 0.20708693399705708,\n",
       " 0.20708693399705708,\n",
       " 0.20708693399705708,\n",
       " 0.20708693399705708,\n",
       " 0.20708693399705708,\n",
       " 0.20708693399705708,\n",
       " 0.20708693399705708,\n",
       " 0.20708693399705708,\n",
       " 0.20708693399705708,\n",
       " 0.20708693399705708,\n",
       " 0.20708693399705708,\n",
       " 0.20708693399705708,\n",
       " 0.20708693399705708,\n",
       " 0.20708693399705708,\n",
       " 0.20708693399705708,\n",
       " 0.20708693399705708,\n",
       " 0.20708693399705708,\n",
       " 0.20708693399705708,\n",
       " 0.20708693399705708,\n",
       " 0.20708693399705708,\n",
       " 0.20708693399705708,\n",
       " 0.20708693399705708,\n",
       " 0.20708693399705708,\n",
       " 0.20708693399705708,\n",
       " 0.20708693399705708,\n",
       " 0.20708693399705708,\n",
       " 0.20708693399705708,\n",
       " 0.20708693399705708,\n",
       " 0.2231365801298194,\n",
       " 0.2231365801298194,\n",
       " 0.2231365801298194,\n",
       " 0.2231365801298194,\n",
       " 0.2231365801298194,\n",
       " 0.2231365801298194,\n",
       " 0.2231365801298194,\n",
       " 0.2231365801298194,\n",
       " 0.2231365801298194,\n",
       " 0.2231365801298194,\n",
       " 0.2231365801298194,\n",
       " 0.2231365801298194,\n",
       " 0.2231365801298194,\n",
       " 0.2231365801298194,\n",
       " 0.2231365801298194,\n",
       " 0.2231365801298194,\n",
       " 0.2231365801298194,\n",
       " 0.2231365801298194,\n",
       " 0.2231365801298194,\n",
       " 0.2231365801298194,\n",
       " 0.2231365801298194,\n",
       " 0.2231365801298194,\n",
       " 0.2231365801298194,\n",
       " 0.2231365801298194,\n",
       " 0.23918622626258174,\n",
       " 0.23918622626258174,\n",
       " 0.23918622626258174,\n",
       " 0.23918622626258174,\n",
       " 0.23918622626258174,\n",
       " 0.23918622626258174,\n",
       " 0.23918622626258174,\n",
       " 0.23918622626258174,\n",
       " 0.23918622626258174,\n",
       " 0.23918622626258174,\n",
       " 0.23918622626258174,\n",
       " 0.23918622626258174,\n",
       " 0.23918622626258174,\n",
       " 0.23918622626258174,\n",
       " 0.23918622626258174,\n",
       " 0.23918622626258174,\n",
       " 0.23918622626258174,\n",
       " 0.23918622626258174,\n",
       " 0.23918622626258174,\n",
       " 0.23918622626258174,\n",
       " 0.23918622626258174,\n",
       " 0.23918622626258174,\n",
       " 0.23918622626258174,\n",
       " 0.23918622626258174,\n",
       " 0.23918622626258174,\n",
       " 0.25523587239534407,\n",
       " 0.25523587239534407,\n",
       " 0.25523587239534407,\n",
       " 0.25523587239534407,\n",
       " 0.25523587239534407,\n",
       " 0.25523587239534407,\n",
       " 0.25523587239534407,\n",
       " 0.25523587239534407,\n",
       " 0.25523587239534407,\n",
       " 0.25523587239534407,\n",
       " 0.25523587239534407,\n",
       " 0.25523587239534407,\n",
       " 0.25523587239534407,\n",
       " 0.25523587239534407,\n",
       " 0.25523587239534407,\n",
       " 0.25523587239534407,\n",
       " 0.25523587239534407,\n",
       " 0.25523587239534407,\n",
       " 0.25523587239534407,\n",
       " 0.27128551852810634,\n",
       " 0.27128551852810634,\n",
       " 0.27128551852810634,\n",
       " 0.27128551852810634,\n",
       " 0.27128551852810634,\n",
       " 0.27128551852810634,\n",
       " 0.27128551852810634,\n",
       " 0.27128551852810634,\n",
       " 0.27128551852810634,\n",
       " 0.27128551852810634,\n",
       " 0.27128551852810634,\n",
       " 0.27128551852810634,\n",
       " 0.27128551852810634,\n",
       " 0.27128551852810634,\n",
       " 0.27128551852810634,\n",
       " 0.27128551852810634,\n",
       " 0.27128551852810634,\n",
       " 0.27128551852810634,\n",
       " 0.27128551852810634,\n",
       " 0.27128551852810634,\n",
       " 0.27128551852810634,\n",
       " 0.27128551852810634,\n",
       " 0.27128551852810634,\n",
       " 0.27128551852810634,\n",
       " 0.27128551852810634,\n",
       " 0.27128551852810634,\n",
       " 0.27128551852810634,\n",
       " 0.27128551852810634,\n",
       " 0.27128551852810634,\n",
       " 0.27128551852810634,\n",
       " 0.27128551852810634,\n",
       " 0.27128551852810634,\n",
       " 0.27128551852810634,\n",
       " 0.27128551852810634,\n",
       " 0.27128551852810634,\n",
       " 0.27128551852810634,\n",
       " 0.27128551852810634,\n",
       " 0.27128551852810634,\n",
       " 0.27128551852810634,\n",
       " 0.27128551852810634,\n",
       " 0.27128551852810634,\n",
       " 0.27128551852810634,\n",
       " 0.27128551852810634,\n",
       " 0.2873351646608687,\n",
       " 0.2873351646608687,\n",
       " 0.2873351646608687,\n",
       " 0.2873351646608687,\n",
       " 0.2873351646608687,\n",
       " 0.2873351646608687,\n",
       " 0.303384810793631,\n",
       " 0.303384810793631,\n",
       " 0.303384810793631,\n",
       " 0.303384810793631,\n",
       " 0.303384810793631,\n",
       " 0.303384810793631,\n",
       " 0.303384810793631,\n",
       " 0.303384810793631,\n",
       " 0.303384810793631,\n",
       " 0.303384810793631,\n",
       " 0.303384810793631,\n",
       " 0.303384810793631,\n",
       " 0.303384810793631,\n",
       " 0.303384810793631,\n",
       " 0.303384810793631,\n",
       " 0.303384810793631,\n",
       " 0.303384810793631,\n",
       " 0.303384810793631,\n",
       " 0.303384810793631,\n",
       " 0.303384810793631,\n",
       " 0.303384810793631,\n",
       " 0.303384810793631,\n",
       " 0.303384810793631,\n",
       " 0.31943445692639333,\n",
       " 0.31943445692639333,\n",
       " 0.31943445692639333,\n",
       " 0.31943445692639333,\n",
       " 0.31943445692639333,\n",
       " 0.31943445692639333,\n",
       " 0.31943445692639333,\n",
       " 0.31943445692639333,\n",
       " 0.31943445692639333,\n",
       " 0.31943445692639333,\n",
       " 0.31943445692639333,\n",
       " 0.31943445692639333,\n",
       " 0.31943445692639333,\n",
       " 0.31943445692639333,\n",
       " 0.31943445692639333,\n",
       " 0.33548410305915566,\n",
       " 0.33548410305915566,\n",
       " 0.33548410305915566,\n",
       " 0.33548410305915566,\n",
       " 0.33548410305915566,\n",
       " 0.33548410305915566,\n",
       " 0.33548410305915566,\n",
       " 0.33548410305915566,\n",
       " 0.33548410305915566,\n",
       " 0.33548410305915566,\n",
       " 0.33548410305915566,\n",
       " 0.33548410305915566,\n",
       " 0.351533749191918,\n",
       " 0.351533749191918,\n",
       " 0.351533749191918,\n",
       " 0.351533749191918,\n",
       " 0.351533749191918,\n",
       " 0.351533749191918,\n",
       " 0.351533749191918,\n",
       " 0.351533749191918,\n",
       " 0.351533749191918,\n",
       " 0.351533749191918,\n",
       " 0.351533749191918,\n",
       " 0.351533749191918,\n",
       " 0.351533749191918,\n",
       " 0.351533749191918,\n",
       " 0.351533749191918,\n",
       " 0.351533749191918,\n",
       " 0.351533749191918,\n",
       " 0.3675833953246803,\n",
       " 0.3675833953246803,\n",
       " 0.3675833953246803,\n",
       " 0.3675833953246803,\n",
       " 0.3675833953246803,\n",
       " 0.3836330414574426,\n",
       " 0.3836330414574426,\n",
       " 0.3836330414574426,\n",
       " 0.3836330414574426,\n",
       " 0.3996826875902049,\n",
       " 0.3996826875902049,\n",
       " 0.3996826875902049,\n",
       " 0.3996826875902049,\n",
       " 0.41573233372296725,\n",
       " 0.41573233372296725,\n",
       " 0.41573233372296725,\n",
       " 0.4317819798557296,\n",
       " 0.4317819798557296,\n",
       " 0.4317819798557296,\n",
       " 0.4478316259884919,\n",
       " 0.46388127212125424,\n",
       " 0.46388127212125424,\n",
       " 0.5120302105195411,\n",
       " 0.5441295027850659,\n",
       " 0.5762287950505904,\n",
       " 0.5922784411833528,\n",
       " 0.6083280873161152,\n",
       " 0.2873351646608687,\n",
       " 0.2873351646608687,\n",
       " 0.3996826875902049,\n",
       " 0.4317819798557296,\n",
       " 0.4317819798557296]"
      ]
     },
     "execution_count": 92,
     "metadata": {},
     "output_type": "execute_result"
    }
   ],
   "source": [
    "# Xuất kết quả dự đoán mức lương trên mô hình hồi quy tuyến tính \n",
    "prediction_result = prediction.collect()\n",
    "prediction_result"
   ]
  },
  {
   "cell_type": "code",
   "execution_count": 93,
   "id": "5f20c22b",
   "metadata": {},
   "outputs": [],
   "source": [
    "# Chuyển rdd_y_test thành danh sách các giá trị\n",
    "rdd_y_test_1 = rdd_y_test.map(lambda a: a[0])"
   ]
  },
  {
   "cell_type": "code",
   "execution_count": 94,
   "id": "d65e9257",
   "metadata": {},
   "outputs": [
    {
     "data": {
      "text/plain": [
       "[0.006245859357747324,\n",
       " 0.01832924303851266,\n",
       " 0.04166267359447331,\n",
       " 0.04582935762232342,\n",
       " 0.058329409705873775,\n",
       " 0.07082946178942412,\n",
       " 0.07832949303955433,\n",
       " 0.08332951387297446,\n",
       " 0.08332951387297446,\n",
       " 0.08332951387297446]"
      ]
     },
     "execution_count": 94,
     "metadata": {},
     "output_type": "execute_result"
    }
   ],
   "source": [
    "rdd_y_test_1.take(10)"
   ]
  },
  {
   "cell_type": "markdown",
   "id": "9a403590",
   "metadata": {},
   "source": [
    "### c. HTC1 - Tạo và ứng dụng thuật toán đánh giá mô hình RMSE - Root Mean Square Error"
   ]
  },
  {
   "cell_type": "code",
   "execution_count": 95,
   "id": "9875cf90",
   "metadata": {},
   "outputs": [],
   "source": [
    "from math import sqrt\n",
    "# Hàm tính toán sai số bình phương trung bình gốc\n",
    "def rmse_metric(actual, predicted):\n",
    "    common_rdd = actual.zip(predicted)\n",
    "    prediction_error = common_rdd.map(lambda a: a[0] - a[1])\n",
    "    # prediction_error.collect()\n",
    "    prediction_error_square = prediction_error.map(lambda a: a ** 2)\n",
    "    sum_error = prediction_error_square.reduce(lambda a, b: a + b)\n",
    "    # print(sum_error)\n",
    "    mean_error = sum_error / float(actual.count())\n",
    "    return sqrt(mean_error)"
   ]
  },
  {
   "cell_type": "code",
   "execution_count": 96,
   "id": "843e774b",
   "metadata": {},
   "outputs": [],
   "source": [
    "# Hàm đánh giá thuật toán hồi quy trên tập dữ liệu huấn luyện\n",
    "def evaluate_algorithm(X_train, y_train, X_test, y_test, algorithm):\n",
    "    predicted = algorithm(X_train, y_train, X_test)\n",
    "    rmse = rmse_metric(y_test, predicted)\n",
    "    return rmse"
   ]
  },
  {
   "cell_type": "code",
   "execution_count": 97,
   "id": "7f338889",
   "metadata": {
    "scrolled": false
   },
   "outputs": [
    {
     "name": "stdout",
     "output_type": "stream",
     "text": [
      ">>>> Root Mean Squared Error = 0.050872286764751425\n"
     ]
    }
   ],
   "source": [
    "# Đánh giá thuật toán hồi quy trên tập dữ liệu huấn luyện\n",
    "evaluate_model_HTC1 = evaluate_algorithm(rdd_X_train_1, rdd_y_train_1, rdd_X_test_1, rdd_y_test_1, simple_linear_regression)\n",
    "print(\">>>> Root Mean Squared Error = \" + str(evaluate_model_HTC1))"
   ]
  },
  {
   "cell_type": "markdown",
   "id": "d820dc77",
   "metadata": {},
   "source": [
    "### d. HTC1 - Trực quan hóa kết quả"
   ]
  },
  {
   "cell_type": "code",
   "execution_count": 98,
   "id": "47cf4fe6",
   "metadata": {},
   "outputs": [],
   "source": [
    "y_test_ori = rdd_y_test_1.collect()"
   ]
  },
  {
   "cell_type": "code",
   "execution_count": 99,
   "id": "51cd89c5",
   "metadata": {
    "scrolled": true
   },
   "outputs": [
    {
     "data": {
      "text/plain": [
       "[0.006245859357747324,\n",
       " 0.01832924303851266,\n",
       " 0.04166267359447331,\n",
       " 0.04582935762232342,\n",
       " 0.058329409705873775,\n",
       " 0.07082946178942412,\n",
       " 0.07832949303955433,\n",
       " 0.08332951387297446,\n",
       " 0.08332951387297446,\n",
       " 0.08332951387297446,\n",
       " 0.09166288192867471,\n",
       " 0.09582956595652482,\n",
       " 0.10416293401222505,\n",
       " 0.10832961804007517,\n",
       " 0.11457964408185034,\n",
       " 0.12499635415147563,\n",
       " 0.12499635415147563,\n",
       " 0.13332972220717587,\n",
       " 0.13332972220717587,\n",
       " 0.13332972220717587,\n",
       " 0.13332972220717587,\n",
       " 0.137496406235026,\n",
       " 0.1416630902628761,\n",
       " 0.14582977429072622,\n",
       " 0.14582977429072622,\n",
       " 0.14582977429072622,\n",
       " 0.14582977429072622,\n",
       " 0.14582977429072622,\n",
       " 0.15416314234642645,\n",
       " 0.15582981595756648,\n",
       " 0.15726732194717477,\n",
       " 0.15832982637427656,\n",
       " 0.15832982637427656,\n",
       " 0.15832982637427656,\n",
       " 0.16249651040212668,\n",
       " 0.16249651040212668,\n",
       " 0.16249651040212668,\n",
       " 0.1666631944299768,\n",
       " 0.1666631944299768,\n",
       " 0.1666631944299768,\n",
       " 0.1666631944299768,\n",
       " 0.1666631944299768,\n",
       " 0.1666631944299768,\n",
       " 0.1666631944299768,\n",
       " 0.1666631944299768,\n",
       " 0.16832986804111683,\n",
       " 0.16832986804111683,\n",
       " 0.16874653644390186,\n",
       " 0.1708298784578269,\n",
       " 0.1708298784578269,\n",
       " 0.1708298784578269,\n",
       " 0.17499656248567702,\n",
       " 0.17499656248567702,\n",
       " 0.17499656248567702,\n",
       " 0.17499656248567702,\n",
       " 0.17499656248567702,\n",
       " 0.1770799044996021,\n",
       " 0.17916324651352714,\n",
       " 0.17916324651352714,\n",
       " 0.18332993054137725,\n",
       " 0.18332993054137725,\n",
       " 0.18332993054137725,\n",
       " 0.18332993054137725,\n",
       " 0.18332993054137725,\n",
       " 0.18332993054137725,\n",
       " 0.18332993054137725,\n",
       " 0.18407630865128605,\n",
       " 0.18541327255530232,\n",
       " 0.18541327255530232,\n",
       " 0.18749661456922737,\n",
       " 0.18749661456922737,\n",
       " 0.18749661456922737,\n",
       " 0.18749661456922737,\n",
       " 0.18749661456922737,\n",
       " 0.18749661456922737,\n",
       " 0.18749661456922737,\n",
       " 0.18749661456922737,\n",
       " 0.18749661456922737,\n",
       " 0.18749661456922737,\n",
       " 0.19166329859707748,\n",
       " 0.19166329859707748,\n",
       " 0.19166329859707748,\n",
       " 0.19457997741657257,\n",
       " 0.1958299826249276,\n",
       " 0.1958299826249276,\n",
       " 0.1958299826249276,\n",
       " 0.1958299826249276,\n",
       " 0.1958299826249276,\n",
       " 0.19832999304163768,\n",
       " 0.1999966666527777,\n",
       " 0.1999966666527777,\n",
       " 0.1999966666527777,\n",
       " 0.1999966666527777,\n",
       " 0.1999966666527777,\n",
       " 0.1999966666527777,\n",
       " 0.1999966666527777,\n",
       " 0.20416335068062783,\n",
       " 0.20833003470847794,\n",
       " 0.20833003470847794,\n",
       " 0.20833003470847794,\n",
       " 0.20833003470847794,\n",
       " 0.20833003470847794,\n",
       " 0.20833003470847794,\n",
       " 0.20833003470847794,\n",
       " 0.20833003470847794,\n",
       " 0.20833003470847794,\n",
       " 0.20833003470847794,\n",
       " 0.20833003470847794,\n",
       " 0.20833003470847794,\n",
       " 0.20833003470847794,\n",
       " 0.20833003470847794,\n",
       " 0.20833003470847794,\n",
       " 0.20833003470847794,\n",
       " 0.20833003470847794,\n",
       " 0.20833003470847794,\n",
       " 0.20833003470847794,\n",
       " 0.20833003470847794,\n",
       " 0.20833003470847794,\n",
       " 0.20833003470847794,\n",
       " 0.2133300555418981,\n",
       " 0.21458006075025313,\n",
       " 0.2166634027641782,\n",
       " 0.2166634027641782,\n",
       " 0.2166634027641782,\n",
       " 0.2166634027641782,\n",
       " 0.2166634027641782,\n",
       " 0.2166634027641782,\n",
       " 0.2166634027641782,\n",
       " 0.2166634027641782,\n",
       " 0.2166634027641782,\n",
       " 0.2166634027641782,\n",
       " 0.21874674477810324,\n",
       " 0.2208300867920283,\n",
       " 0.2208300867920283,\n",
       " 0.2208300867920283,\n",
       " 0.2208300867920283,\n",
       " 0.22499677081987843,\n",
       " 0.22499677081987843,\n",
       " 0.22499677081987843,\n",
       " 0.22916345484772854,\n",
       " 0.22916345484772854,\n",
       " 0.22916345484772854,\n",
       " 0.22916345484772854,\n",
       " 0.22916345484772854,\n",
       " 0.22916345484772854,\n",
       " 0.22916345484772854,\n",
       " 0.22916345484772854,\n",
       " 0.22916345484772854,\n",
       " 0.22916345484772854,\n",
       " 0.22916345484772854,\n",
       " 0.22916345484772854,\n",
       " 0.22916345484772854,\n",
       " 0.22916345484772854,\n",
       " 0.22916345484772854,\n",
       " 0.22916345484772854,\n",
       " 0.22916345484772854,\n",
       " 0.22916345484772854,\n",
       " 0.23291347047279365,\n",
       " 0.23333013887557866,\n",
       " 0.23333013887557866,\n",
       " 0.23333013887557866,\n",
       " 0.23666348609785873,\n",
       " 0.23749682290342877,\n",
       " 0.23749682290342877,\n",
       " 0.23749682290342877,\n",
       " 0.23749682290342877,\n",
       " 0.2383301597089988,\n",
       " 0.23958016491735382,\n",
       " 0.2416635069312789,\n",
       " 0.2416635069312789,\n",
       " 0.2416635069312789,\n",
       " 0.2416635069312789,\n",
       " 0.2416635069312789,\n",
       " 0.2416635069312789,\n",
       " 0.2416635069312789,\n",
       " 0.245830190959129,\n",
       " 0.245830190959129,\n",
       " 0.245830190959129,\n",
       " 0.245830190959129,\n",
       " 0.24999687498697912,\n",
       " 0.24999687498697912,\n",
       " 0.24999687498697912,\n",
       " 0.24999687498697912,\n",
       " 0.24999687498697912,\n",
       " 0.24999687498697912,\n",
       " 0.24999687498697912,\n",
       " 0.24999687498697912,\n",
       " 0.24999687498697912,\n",
       " 0.24999687498697912,\n",
       " 0.24999687498697912,\n",
       " 0.24999687498697912,\n",
       " 0.24999687498697912,\n",
       " 0.24999687498697912,\n",
       " 0.24999687498697912,\n",
       " 0.24999687498697912,\n",
       " 0.24999687498697912,\n",
       " 0.24999687498697912,\n",
       " 0.24999687498697912,\n",
       " 0.25083021179254916,\n",
       " 0.25083021179254916,\n",
       " 0.25208021700090416,\n",
       " 0.2533302222092592,\n",
       " 0.2533302222092592,\n",
       " 0.25416355901482923,\n",
       " 0.2583302430426793,\n",
       " 0.2583302430426793,\n",
       " 0.2583302430426793,\n",
       " 0.2583302430426793,\n",
       " 0.2583302430426793,\n",
       " 0.2583302430426793,\n",
       " 0.2583302430426793,\n",
       " 0.2583302430426793,\n",
       " 0.2604135850566044,\n",
       " 0.26249692707052946,\n",
       " 0.26249692707052946,\n",
       " 0.26458026908445453,\n",
       " 0.26541360589002455,\n",
       " 0.26666361109837955,\n",
       " 0.26666361109837955,\n",
       " 0.26666361109837955,\n",
       " 0.26666361109837955,\n",
       " 0.26666361109837955,\n",
       " 0.2708302951262297,\n",
       " 0.2708302951262297,\n",
       " 0.2708302951262297,\n",
       " 0.2708302951262297,\n",
       " 0.2708302951262297,\n",
       " 0.2708302951262297,\n",
       " 0.2708302951262297,\n",
       " 0.2708302951262297,\n",
       " 0.2708302951262297,\n",
       " 0.2708302951262297,\n",
       " 0.2708302951262297,\n",
       " 0.2708302951262297,\n",
       " 0.2708302951262297,\n",
       " 0.2708302951262297,\n",
       " 0.2708302951262297,\n",
       " 0.2708302951262297,\n",
       " 0.2708302951262297,\n",
       " 0.2708302951262297,\n",
       " 0.2708302951262297,\n",
       " 0.2708302951262297,\n",
       " 0.2708302951262297,\n",
       " 0.2708302951262297,\n",
       " 0.2708302951262297,\n",
       " 0.2708302951262297,\n",
       " 0.2708302951262297,\n",
       " 0.27499697915407983,\n",
       " 0.27708032116800485,\n",
       " 0.2787469947791449,\n",
       " 0.2791636631819299,\n",
       " 0.2791636631819299,\n",
       " 0.28020533418889243,\n",
       " 0.28333034720978006,\n",
       " 0.28333034720978006,\n",
       " 0.28333034720978006,\n",
       " 0.28333034720978006,\n",
       " 0.28333034720978006,\n",
       " 0.2916637152654803,\n",
       " 0.2916637152654803,\n",
       " 0.2916637152654803,\n",
       " 0.2916637152654803,\n",
       " 0.2916637152654803,\n",
       " 0.2916637152654803,\n",
       " 0.2916637152654803,\n",
       " 0.2916637152654803,\n",
       " 0.2916637152654803,\n",
       " 0.2916637152654803,\n",
       " 0.2916637152654803,\n",
       " 0.2916637152654803,\n",
       " 0.2916637152654803,\n",
       " 0.2916637152654803,\n",
       " 0.2916637152654803,\n",
       " 0.2916637152654803,\n",
       " 0.2916637152654803,\n",
       " 0.2916637152654803,\n",
       " 0.2916637152654803,\n",
       " 0.2916637152654803,\n",
       " 0.2916637152654803,\n",
       " 0.2966637360989004,\n",
       " 0.2995804149183955,\n",
       " 0.2999970833211805,\n",
       " 0.2999970833211805,\n",
       " 0.2999970833211805,\n",
       " 0.30208042533510554,\n",
       " 0.3041637673490306,\n",
       " 0.3041637673490306,\n",
       " 0.30833045137688075,\n",
       " 0.31249713540473084,\n",
       " 0.31249713540473084,\n",
       " 0.31249713540473084,\n",
       " 0.31249713540473084,\n",
       " 0.31249713540473084,\n",
       " 0.31249713540473084,\n",
       " 0.31249713540473084,\n",
       " 0.31249713540473084,\n",
       " 0.31249713540473084,\n",
       " 0.31249713540473084,\n",
       " 0.31249713540473084,\n",
       " 0.31249713540473084,\n",
       " 0.31249713540473084,\n",
       " 0.31249713540473084,\n",
       " 0.31249713540473084,\n",
       " 0.31249713540473084,\n",
       " 0.316663819432581,\n",
       " 0.32083050346043107,\n",
       " 0.3249971874882812,\n",
       " 0.33333055554398144,\n",
       " 0.33333055554398144,\n",
       " 0.33333055554398144,\n",
       " 0.33333055554398144,\n",
       " 0.33333055554398144,\n",
       " 0.33333055554398144,\n",
       " 0.33333055554398144,\n",
       " 0.33333055554398144,\n",
       " 0.33333055554398144,\n",
       " 0.33333055554398144,\n",
       " 0.33333055554398144,\n",
       " 0.33333055554398144,\n",
       " 0.33333055554398144,\n",
       " 0.33333055554398144,\n",
       " 0.3416639235996817,\n",
       " 0.3416639235996817,\n",
       " 0.34583060762753176,\n",
       " 0.354163975683232,\n",
       " 0.354163975683232,\n",
       " 0.354163975683232,\n",
       " 0.354163975683232,\n",
       " 0.354163975683232,\n",
       " 0.36666402776678236,\n",
       " 0.3749973958224826,\n",
       " 0.3749973958224826,\n",
       " 0.3749973958224826,\n",
       " 0.3749973958224826,\n",
       " 0.3749973958224826,\n",
       " 0.3749973958224826,\n",
       " 0.3749973958224826,\n",
       " 0.3749973958224826,\n",
       " 0.3749973958224826,\n",
       " 0.3749973958224826,\n",
       " 0.38749744790603297,\n",
       " 0.3958308159617332,\n",
       " 0.3958308159617332,\n",
       " 0.3958308159617332,\n",
       " 0.41666423610098374,\n",
       " 0.41666423610098374,\n",
       " 0.4583310763794849,\n",
       " 0.4583310763794849,\n",
       " 0.4583310763794849,\n",
       " 0.4583310763794849,\n",
       " 0.4733311388797453,\n",
       " 0.4999979166579861,\n",
       " 0.5208313367972367,\n",
       " 0.5416647569364872,\n",
       " 0.5833315972149884,\n",
       " 0.6083317013820891,\n",
       " 0.6249984374934896,\n",
       " 0.7916657986074942,\n",
       " 0.7916657986074942,\n",
       " 1.0]"
      ]
     },
     "execution_count": 99,
     "metadata": {},
     "output_type": "execute_result"
    }
   ],
   "source": [
    "y_test_ori"
   ]
  },
  {
   "cell_type": "code",
   "execution_count": 100,
   "id": "83659fe9",
   "metadata": {},
   "outputs": [
    {
     "data": {
      "text/html": [
       "<div>\n",
       "<style scoped>\n",
       "    .dataframe tbody tr th:only-of-type {\n",
       "        vertical-align: middle;\n",
       "    }\n",
       "\n",
       "    .dataframe tbody tr th {\n",
       "        vertical-align: top;\n",
       "    }\n",
       "\n",
       "    .dataframe thead th {\n",
       "        text-align: right;\n",
       "    }\n",
       "</style>\n",
       "<table border=\"1\" class=\"dataframe\">\n",
       "  <thead>\n",
       "    <tr style=\"text-align: right;\">\n",
       "      <th></th>\n",
       "      <th>Origin</th>\n",
       "      <th>Predict</th>\n",
       "    </tr>\n",
       "  </thead>\n",
       "  <tbody>\n",
       "    <tr>\n",
       "      <th>0</th>\n",
       "      <td>0.006246</td>\n",
       "      <td>0.110789</td>\n",
       "    </tr>\n",
       "    <tr>\n",
       "      <th>1</th>\n",
       "      <td>0.018329</td>\n",
       "      <td>0.126839</td>\n",
       "    </tr>\n",
       "    <tr>\n",
       "      <th>2</th>\n",
       "      <td>0.041663</td>\n",
       "      <td>0.126839</td>\n",
       "    </tr>\n",
       "    <tr>\n",
       "      <th>3</th>\n",
       "      <td>0.045829</td>\n",
       "      <td>0.126839</td>\n",
       "    </tr>\n",
       "    <tr>\n",
       "      <th>4</th>\n",
       "      <td>0.058329</td>\n",
       "      <td>0.126839</td>\n",
       "    </tr>\n",
       "    <tr>\n",
       "      <th>5</th>\n",
       "      <td>0.070829</td>\n",
       "      <td>0.126839</td>\n",
       "    </tr>\n",
       "    <tr>\n",
       "      <th>6</th>\n",
       "      <td>0.078329</td>\n",
       "      <td>0.126839</td>\n",
       "    </tr>\n",
       "    <tr>\n",
       "      <th>7</th>\n",
       "      <td>0.083330</td>\n",
       "      <td>0.126839</td>\n",
       "    </tr>\n",
       "    <tr>\n",
       "      <th>8</th>\n",
       "      <td>0.083330</td>\n",
       "      <td>0.126839</td>\n",
       "    </tr>\n",
       "    <tr>\n",
       "      <th>9</th>\n",
       "      <td>0.083330</td>\n",
       "      <td>0.134864</td>\n",
       "    </tr>\n",
       "  </tbody>\n",
       "</table>\n",
       "</div>"
      ],
      "text/plain": [
       "     Origin   Predict\n",
       "0  0.006246  0.110789\n",
       "1  0.018329  0.126839\n",
       "2  0.041663  0.126839\n",
       "3  0.045829  0.126839\n",
       "4  0.058329  0.126839\n",
       "5  0.070829  0.126839\n",
       "6  0.078329  0.126839\n",
       "7  0.083330  0.126839\n",
       "8  0.083330  0.126839\n",
       "9  0.083330  0.134864"
      ]
     },
     "execution_count": 100,
     "metadata": {},
     "output_type": "execute_result"
    }
   ],
   "source": [
    "# Đưa giá Salary test và Salary dự đoán vào DataFrame để tiến hành so sánh và trực quan hóa\n",
    "diff = DataFrame({'Origin': y_test_ori, 'Predict': prediction_result})\n",
    "diff.head(10)"
   ]
  },
  {
   "cell_type": "code",
   "execution_count": 101,
   "id": "110b0117",
   "metadata": {
    "scrolled": true
   },
   "outputs": [
    {
     "data": {
      "image/png": "[encoded data removed]",
      "text/plain": [
       "<Figure size 1800x432 with 1 Axes>"
      ]
     },
     "metadata": {
      "needs_background": "light"
     },
     "output_type": "display_data"
    }
   ],
   "source": [
    "# Trực quan hóa so sánh kết quả trên tập test và kết quả dự đoán\n",
    "x_ax = range(len(y_test_ori))\n",
    "plt.figure(figsize=(25, 6))\n",
    "plt.plot(x_ax, y_test_ori, linewidth=3, label=\"original\")\n",
    "plt.plot(x_ax, prediction_result, linewidth=3.5, label=\"predicted\")\n",
    "plt.title(\"y-test and predicted data\")\n",
    "plt.xlabel('Count')\n",
    "plt.ylabel('Salary')\n",
    "plt.legend(loc='best',fancybox=True, shadow=True)\n",
    "plt.grid(True)\n",
    "plt.show() "
   ]
  },
  {
   "cell_type": "markdown",
   "id": "96150aad",
   "metadata": {},
   "source": [
    "## 2. Hướng tiếp cận 2"
   ]
  },
  {
   "cell_type": "markdown",
   "id": "72bee57a",
   "metadata": {},
   "source": [
    "### a. HTC2 - Tạo mô hình hồi quy tuyến tính"
   ]
  },
  {
   "cell_type": "code",
   "execution_count": 102,
   "id": "1bd29b95",
   "metadata": {},
   "outputs": [],
   "source": [
    "rdd_train = rdd_X_train_1.zip(rdd_y_train_1)\n",
    "rdd_test = rdd_X_test_1.zip(rdd_y_test_1)"
   ]
  },
  {
   "cell_type": "code",
   "execution_count": 103,
   "id": "359fed46",
   "metadata": {},
   "outputs": [
    {
     "data": {
      "text/plain": [
       "839"
      ]
     },
     "execution_count": 103,
     "metadata": {},
     "output_type": "execute_result"
    }
   ],
   "source": [
    "rdd_train.count()"
   ]
  },
  {
   "cell_type": "code",
   "execution_count": 104,
   "id": "1fa754a8",
   "metadata": {},
   "outputs": [
    {
     "data": {
      "text/plain": [
       "360"
      ]
     },
     "execution_count": 104,
     "metadata": {},
     "output_type": "execute_result"
    }
   ],
   "source": [
    "rdd_test.count()"
   ]
  },
  {
   "cell_type": "code",
   "execution_count": 105,
   "id": "0835147f",
   "metadata": {},
   "outputs": [],
   "source": [
    "# Tính toán giá trị trung bình của mảng\n",
    "# Đầu vào sẽ là 1 tuple (key-value)\n",
    "def estimate_coef(data):\n",
    "    # số lượng phần tử trong m\n",
    "    n = data.count()\n",
    "    \n",
    "    # trung bình của mảng bao gồm các keys\n",
    "    sum_x = data.keys().reduce(lambda a, b: a + b)\n",
    "    mean_x = sum_x/n\n",
    "    # trung bình của mảng bao gồm các values\n",
    "    sum_y = data.values().reduce(lambda a, b: a + b)\n",
    "    mean_y = sum_y/n\n",
    "    \n",
    "    # tính toán giá trị cross-deviation (độ lệch chéo) và deviation của x\n",
    "    sum_xy = data.map(lambda x: (x[0],x[0]*x[1])).values().reduce(lambda x,y: x+y)\n",
    "    SS_xy = sum_xy - n*mean_x*mean_y\n",
    "    \n",
    "    sum_xx = data.map(lambda x: (x[0],x[0]*x[0])).values().reduce(lambda x,y: x+y)\n",
    "    SS_xx = sum_xx - n*mean_x*mean_x\n",
    "    \n",
    "    # tính toán hệ số hồi quy\n",
    "    b_1 = SS_xy / SS_xx\n",
    "    b_0 = mean_y - b_1*mean_x\n",
    "    \n",
    "    return (b_0, b_1)"
   ]
  },
  {
   "cell_type": "code",
   "execution_count": 106,
   "id": "a1c9446a",
   "metadata": {},
   "outputs": [
    {
     "name": "stdout",
     "output_type": "stream",
     "text": [
      "Hệ số ước lượng:\n",
      "b_0 = 0.1107890572004821 \n",
      "b_1 = 0.6419858453104978\n"
     ]
    }
   ],
   "source": [
    "# Hệ số ước lượng (estimating coefficients)\n",
    "b = estimate_coef(rdd_train)\n",
    "print(\"Hệ số ước lượng:\\nb_0 = {} \\nb_1 = {}\".format(b[0], b[1]))"
   ]
  },
  {
   "cell_type": "code",
   "execution_count": 107,
   "id": "ad81b216",
   "metadata": {},
   "outputs": [],
   "source": [
    "# Hàm dự đoán - trả về các giá trị y \n",
    "def simple_linear_regression(train, test):\n",
    "    b_0, b_1 = estimate_coef(train)\n",
    "    predictions = test.keys().map(lambda x: x*b_1 + b_0)\n",
    "    return predictions"
   ]
  },
  {
   "cell_type": "markdown",
   "id": "6b48ac6f",
   "metadata": {},
   "source": [
    "### b. HTC2 - Ứng dụng mô hình hồi quy tuyến tính trên tập dữ liệu test"
   ]
  },
  {
   "cell_type": "code",
   "execution_count": 108,
   "id": "1326357f",
   "metadata": {},
   "outputs": [
    {
     "name": "stdout",
     "output_type": "stream",
     "text": [
      ">>>> Run time:0.8109316825866699(s)\n"
     ]
    }
   ],
   "source": [
    "start = time.time()\n",
    "prediction = simple_linear_regression(rdd_train, rdd_test)\n",
    "end = time.time()\n",
    "run_time_HTC2 = end - start\n",
    "print(\">>>> Run time:\" + str(run_time_HTC2) + \"(s)\")"
   ]
  },
  {
   "cell_type": "markdown",
   "id": "18ceead5",
   "metadata": {},
   "source": [
    "### c. HTC2 - Tạo và ứng dựng thuật toán đánh giá mô hình RMSE - Root Mean Square Error"
   ]
  },
  {
   "cell_type": "code",
   "execution_count": 109,
   "id": "d61ee988",
   "metadata": {},
   "outputs": [],
   "source": [
    "# Hàm tính độ sai số hệ RMSE \n",
    "def rmse_metric(actual, predict):\n",
    "    rdd_zip = actual.zip(predict)\n",
    "    \n",
    "    predict_error = rdd_zip.map(lambda a: a[0] - a[1])\n",
    "    predict_error_square = predict_error.map(lambda a: a**2)\n",
    "    \n",
    "    sum_error = predict_error_square.reduce(lambda a,b: a+b)\n",
    "    #print(sum_error)\n",
    "    \n",
    "    mean_error = sum_error/float(actual.count())\n",
    "    \n",
    "    rmse = math.sqrt(mean_error)\n",
    "    return rmse"
   ]
  },
  {
   "cell_type": "code",
   "execution_count": 110,
   "id": "d3e8b56b",
   "metadata": {},
   "outputs": [],
   "source": [
    "# Hàm đánh giá thuật toán -----C--------\n",
    "def evaluate_algorithm(train, test):\n",
    "    y_test = test.values()\n",
    "    y_predict = simple_linear_regression(train, test)\n",
    "    \n",
    "    rmse = rmse_metric(y_test, y_predict)\n",
    "    return rmse"
   ]
  },
  {
   "cell_type": "code",
   "execution_count": 111,
   "id": "0897a24e",
   "metadata": {},
   "outputs": [
    {
     "name": "stdout",
     "output_type": "stream",
     "text": [
      "Chỉ số RMSE: 0.05087228676475136 \n"
     ]
    }
   ],
   "source": [
    "import math #-----C--------\n",
    "\n",
    "evaluate_model_HTC2 = evaluate_algorithm(rdd_train, rdd_test)\n",
    "\n",
    "print(\"Chỉ số RMSE: {} \".format(evaluate_model_HTC2))"
   ]
  },
  {
   "cell_type": "markdown",
   "id": "9f97c617",
   "metadata": {},
   "source": [
    "### d. HTC2 - Trực quan hóa kết quả"
   ]
  },
  {
   "cell_type": "code",
   "execution_count": 112,
   "id": "5c6d33fb",
   "metadata": {},
   "outputs": [],
   "source": [
    "import numpy as np\n",
    "def plot_regression_line(data, b_0, b_1):\n",
    "    # biểu đồ các điểm thực tế dưới dạng biểu đồ phân tán (scatter plot)\n",
    "    x = data.keys().collect()\n",
    "    x = np.array(x)\n",
    "    \n",
    "    y = data.values().collect()\n",
    "    y = np.array(y)\n",
    "    \n",
    "    plt.scatter(x, y, color = \"m\",\n",
    "               marker = \"o\", s = 30)\n",
    "  \n",
    "    # vecto dự đoán (predicted response vector) - phương trình bậc nhất\n",
    "    y_pred = b_0 + b_1*x\n",
    "  \n",
    "    # plotting the regression line\n",
    "    plt.plot(x, y_pred, color = \"g\")\n",
    "  \n",
    "    plt.xlabel('x')\n",
    "    plt.ylabel('y')\n",
    "  \n",
    "    plt.show()"
   ]
  },
  {
   "cell_type": "code",
   "execution_count": 113,
   "id": "d6190a51",
   "metadata": {},
   "outputs": [
    {
     "data": {
      "image/png": "[encoded data removed]",
      "text/plain": [
       "<Figure size 432x288 with 1 Axes>"
      ]
     },
     "metadata": {
      "needs_background": "light"
     },
     "output_type": "display_data"
    }
   ],
   "source": [
    "# plotting regression line\n",
    "plot_regression_line(rdd_train, b[0], b[1])"
   ]
  },
  {
   "cell_type": "code",
   "execution_count": 114,
   "id": "96ef1eae",
   "metadata": {},
   "outputs": [],
   "source": [
    "y_test = rdd_test.values().collect()"
   ]
  },
  {
   "cell_type": "code",
   "execution_count": 115,
   "id": "2eb36623",
   "metadata": {},
   "outputs": [],
   "source": [
    "y_predict = simple_linear_regression(rdd_train, rdd_test).collect()"
   ]
  },
  {
   "cell_type": "code",
   "execution_count": 116,
   "id": "2ddea0bc",
   "metadata": {},
   "outputs": [
    {
     "data": {
      "text/html": [
       "<div>\n",
       "<style scoped>\n",
       "    .dataframe tbody tr th:only-of-type {\n",
       "        vertical-align: middle;\n",
       "    }\n",
       "\n",
       "    .dataframe tbody tr th {\n",
       "        vertical-align: top;\n",
       "    }\n",
       "\n",
       "    .dataframe thead th {\n",
       "        text-align: right;\n",
       "    }\n",
       "</style>\n",
       "<table border=\"1\" class=\"dataframe\">\n",
       "  <thead>\n",
       "    <tr style=\"text-align: right;\">\n",
       "      <th></th>\n",
       "      <th>Origin</th>\n",
       "      <th>Predict</th>\n",
       "    </tr>\n",
       "  </thead>\n",
       "  <tbody>\n",
       "    <tr>\n",
       "      <th>0</th>\n",
       "      <td>0.006246</td>\n",
       "      <td>0.110789</td>\n",
       "    </tr>\n",
       "    <tr>\n",
       "      <th>1</th>\n",
       "      <td>0.018329</td>\n",
       "      <td>0.126839</td>\n",
       "    </tr>\n",
       "    <tr>\n",
       "      <th>2</th>\n",
       "      <td>0.041663</td>\n",
       "      <td>0.126839</td>\n",
       "    </tr>\n",
       "    <tr>\n",
       "      <th>3</th>\n",
       "      <td>0.045829</td>\n",
       "      <td>0.126839</td>\n",
       "    </tr>\n",
       "    <tr>\n",
       "      <th>4</th>\n",
       "      <td>0.058329</td>\n",
       "      <td>0.126839</td>\n",
       "    </tr>\n",
       "    <tr>\n",
       "      <th>5</th>\n",
       "      <td>0.070829</td>\n",
       "      <td>0.126839</td>\n",
       "    </tr>\n",
       "    <tr>\n",
       "      <th>6</th>\n",
       "      <td>0.078329</td>\n",
       "      <td>0.126839</td>\n",
       "    </tr>\n",
       "    <tr>\n",
       "      <th>7</th>\n",
       "      <td>0.083330</td>\n",
       "      <td>0.126839</td>\n",
       "    </tr>\n",
       "    <tr>\n",
       "      <th>8</th>\n",
       "      <td>0.083330</td>\n",
       "      <td>0.126839</td>\n",
       "    </tr>\n",
       "    <tr>\n",
       "      <th>9</th>\n",
       "      <td>0.083330</td>\n",
       "      <td>0.134864</td>\n",
       "    </tr>\n",
       "  </tbody>\n",
       "</table>\n",
       "</div>"
      ],
      "text/plain": [
       "     Origin   Predict\n",
       "0  0.006246  0.110789\n",
       "1  0.018329  0.126839\n",
       "2  0.041663  0.126839\n",
       "3  0.045829  0.126839\n",
       "4  0.058329  0.126839\n",
       "5  0.070829  0.126839\n",
       "6  0.078329  0.126839\n",
       "7  0.083330  0.126839\n",
       "8  0.083330  0.126839\n",
       "9  0.083330  0.134864"
      ]
     },
     "execution_count": 116,
     "metadata": {},
     "output_type": "execute_result"
    }
   ],
   "source": [
    "diff = DataFrame({'Origin': y_test, 'Predict': y_predict})\n",
    "diff.head(10)"
   ]
  },
  {
   "cell_type": "code",
   "execution_count": 117,
   "id": "1c128715",
   "metadata": {},
   "outputs": [
    {
     "data": {
      "image/png": "[encoded data removed]",
      "text/plain": [
       "<Figure size 1800x432 with 1 Axes>"
      ]
     },
     "metadata": {
      "needs_background": "light"
     },
     "output_type": "display_data"
    }
   ],
   "source": [
    "# Trực quan hóa so sánh kết quả trên tập test và kết quả dự đoán\n",
    "x_ax = range(len(y_test))\n",
    "plt.figure(figsize=(25, 6))\n",
    "plt.plot(x_ax, y_test, linewidth=3, label=\"original\")\n",
    "plt.plot(x_ax, y_predict, linewidth=3.5, label=\"predicted\")\n",
    "plt.title(\"y-test and predicted data\")\n",
    "plt.xlabel('Count')\n",
    "plt.ylabel('Salary')\n",
    "plt.legend(loc='best',fancybox=True, shadow=True)\n",
    "plt.grid(True)\n",
    "plt.show() "
   ]
  },
  {
   "cell_type": "markdown",
   "id": "f65979a3",
   "metadata": {},
   "source": [
    "## 3. Hướng tiếp cận 3: Sử dụng mô hình hồi quy tuyến tính thông qua thư viện MMLib"
   ]
  },
  {
   "cell_type": "markdown",
   "id": "48933ae0",
   "metadata": {},
   "source": [
    "### a. Chuẩn bị dữ liệu và áp dụng thuật toán"
   ]
  },
  {
   "cell_type": "code",
   "execution_count": 118,
   "id": "7e0b140b",
   "metadata": {},
   "outputs": [],
   "source": [
    "# Zip X_test và y_test lưu vào rdd_data_MML\n",
    "rdd_data_MML = rdd_X_test_1.zip(rdd_y_test_1)"
   ]
  },
  {
   "cell_type": "code",
   "execution_count": 119,
   "id": "501d2750",
   "metadata": {},
   "outputs": [],
   "source": [
    "# Tên cột khi chuyển đổi từ RDD sang Dataframe\n",
    "nameColumns = [\"Experience\", \"label\"]"
   ]
  },
  {
   "cell_type": "code",
   "execution_count": 120,
   "id": "fdd2a02e",
   "metadata": {},
   "outputs": [],
   "source": [
    "# Chuyển đổi rdd_data_MML sang Dataframe và lưu vào data_MML\n",
    "data_MML = rdd_data_MML.toDF(nameColumns)"
   ]
  },
  {
   "cell_type": "code",
   "execution_count": 121,
   "id": "50d162da",
   "metadata": {},
   "outputs": [],
   "source": [
    "# Thêm lớp LinearRegression từ thư viện máy học\n",
    "from pyspark.ml.linalg import Vectors\n",
    "from pyspark.ml.feature import VectorAssembler\n",
    "\n",
    "assembler = VectorAssembler(\n",
    "    inputCols=[\"Experience\"],\n",
    "    outputCol=\"features\")\n",
    "data_MML = assembler.transform(data_MML)"
   ]
  },
  {
   "cell_type": "code",
   "execution_count": 122,
   "id": "583b5489",
   "metadata": {},
   "outputs": [
    {
     "name": "stdout",
     "output_type": "stream",
     "text": [
      "+----------+--------------------+--------+\n",
      "|Experience|               label|features|\n",
      "+----------+--------------------+--------+\n",
      "|       0.0|0.006245859357747324|   [0.0]|\n",
      "|     0.025| 0.01832924303851266| [0.025]|\n",
      "|     0.025| 0.04166267359447331| [0.025]|\n",
      "|     0.025| 0.04582935762232342| [0.025]|\n",
      "|     0.025|0.058329409705873775| [0.025]|\n",
      "|     0.025| 0.07082946178942412| [0.025]|\n",
      "|     0.025| 0.07832949303955433| [0.025]|\n",
      "|     0.025| 0.08332951387297446| [0.025]|\n",
      "|     0.025| 0.08332951387297446| [0.025]|\n",
      "|    0.0375| 0.08332951387297446|[0.0375]|\n",
      "|      0.05| 0.09166288192867471|  [0.05]|\n",
      "|      0.05| 0.09582956595652482|  [0.05]|\n",
      "|      0.05| 0.10416293401222505|  [0.05]|\n",
      "|      0.05| 0.10832961804007517|  [0.05]|\n",
      "|      0.05| 0.11457964408185034|  [0.05]|\n",
      "|      0.05| 0.12499635415147563|  [0.05]|\n",
      "|      0.05| 0.12499635415147563|  [0.05]|\n",
      "|      0.05| 0.13332972220717587|  [0.05]|\n",
      "|      0.05| 0.13332972220717587|  [0.05]|\n",
      "|      0.05| 0.13332972220717587|  [0.05]|\n",
      "+----------+--------------------+--------+\n",
      "only showing top 20 rows\n",
      "\n"
     ]
    }
   ],
   "source": [
    "data_MML.show()"
   ]
  },
  {
   "cell_type": "code",
   "execution_count": 123,
   "id": "e904acd6",
   "metadata": {},
   "outputs": [
    {
     "name": "stdout",
     "output_type": "stream",
     "text": [
      "+-------+------------------+--------------------+\n",
      "|summary|        Experience|               label|\n",
      "+-------+------------------+--------------------+\n",
      "|  count|               360|                 360|\n",
      "|   mean|          0.218125| 0.25439821427496634|\n",
      "| stddev|0.1288493308854877| 0.10127014060217887|\n",
      "|    min|               0.0|0.006245859357747324|\n",
      "|    max|             0.775|                 1.0|\n",
      "+-------+------------------+--------------------+\n",
      "\n"
     ]
    }
   ],
   "source": [
    "data_MML.describe().show()"
   ]
  },
  {
   "cell_type": "code",
   "execution_count": 124,
   "id": "c4c81d30",
   "metadata": {},
   "outputs": [
    {
     "name": "stderr",
     "output_type": "stream",
     "text": [
      "22/06/01 15:34:38 WARN Instrumentation: [4e2e1958] regParam is zero, which might cause numerical instability and overfitting.\n",
      "22/06/01 15:34:38 WARN InstanceBuilder$NativeBLAS: Failed to load implementation from:dev.ludovic.netlib.blas.JNIBLAS\n",
      "22/06/01 15:34:38 WARN InstanceBuilder$NativeBLAS: Failed to load implementation from:dev.ludovic.netlib.blas.ForeignLinkerBLAS\n",
      "22/06/01 15:34:38 WARN InstanceBuilder$NativeLAPACK: Failed to load implementation from:dev.ludovic.netlib.lapack.JNILAPACK\n"
     ]
    },
    {
     "name": "stdout",
     "output_type": "stream",
     "text": [
      ">>>> Run time:1.1241950988769531(s)\n"
     ]
    }
   ],
   "source": [
    "from pyspark.ml.regression import LinearRegression\n",
    "\n",
    "start = time.time()\n",
    "#Tạo biến LinearRegression để sử dụng\n",
    "lr = LinearRegression()\n",
    "\n",
    "#Tạo ra hai mô hình tương ứng với hai tham số\n",
    "modelA = lr.fit(data_MML, {lr.regParam:0.0})\n",
    "\n",
    "predictionsA = modelA.transform(data_MML)\n",
    "end = time.time()\n",
    "run_time_HTC3 = end - start\n",
    "print(\">>>> Run time:\" + str(run_time_HTC3) + \"(s)\")"
   ]
  },
  {
   "cell_type": "code",
   "execution_count": 125,
   "id": "efa5b865",
   "metadata": {},
   "outputs": [
    {
     "name": "stdout",
     "output_type": "stream",
     "text": [
      ">>>> Model intercept: 0.10586422928285669, coefficient: 0.68095809738503\n"
     ]
    }
   ],
   "source": [
    "#Hiển thị thông tin của hai mô hình\n",
    "print(\">>>> Model intercept: {}, coefficient: {}\".format(modelA.intercept, modelA.coefficients[0]))"
   ]
  },
  {
   "cell_type": "code",
   "execution_count": 126,
   "id": "7381b7a9",
   "metadata": {},
   "outputs": [
    {
     "name": "stdout",
     "output_type": "stream",
     "text": [
      "+----------+--------------------+--------+-------------------+\n",
      "|Experience|               label|features|         prediction|\n",
      "+----------+--------------------+--------+-------------------+\n",
      "|       0.0|0.006245859357747324|   [0.0]|0.10586422928285669|\n",
      "|     0.025| 0.01832924303851266| [0.025]|0.12288818171748243|\n",
      "|     0.025| 0.04166267359447331| [0.025]|0.12288818171748243|\n",
      "|     0.025| 0.04582935762232342| [0.025]|0.12288818171748243|\n",
      "|     0.025|0.058329409705873775| [0.025]|0.12288818171748243|\n",
      "|     0.025| 0.07082946178942412| [0.025]|0.12288818171748243|\n",
      "|     0.025| 0.07832949303955433| [0.025]|0.12288818171748243|\n",
      "|     0.025| 0.08332951387297446| [0.025]|0.12288818171748243|\n",
      "|     0.025| 0.08332951387297446| [0.025]|0.12288818171748243|\n",
      "|    0.0375| 0.08332951387297446|[0.0375]|0.13140015793479531|\n",
      "|      0.05| 0.09166288192867471|  [0.05]|0.13991213415210818|\n",
      "|      0.05| 0.09582956595652482|  [0.05]|0.13991213415210818|\n",
      "|      0.05| 0.10416293401222505|  [0.05]|0.13991213415210818|\n",
      "|      0.05| 0.10832961804007517|  [0.05]|0.13991213415210818|\n",
      "|      0.05| 0.11457964408185034|  [0.05]|0.13991213415210818|\n",
      "|      0.05| 0.12499635415147563|  [0.05]|0.13991213415210818|\n",
      "|      0.05| 0.12499635415147563|  [0.05]|0.13991213415210818|\n",
      "|      0.05| 0.13332972220717587|  [0.05]|0.13991213415210818|\n",
      "|      0.05| 0.13332972220717587|  [0.05]|0.13991213415210818|\n",
      "|      0.05| 0.13332972220717587|  [0.05]|0.13991213415210818|\n",
      "+----------+--------------------+--------+-------------------+\n",
      "only showing top 20 rows\n",
      "\n"
     ]
    }
   ],
   "source": [
    "predictionsA.show()"
   ]
  },
  {
   "cell_type": "markdown",
   "id": "5d359586",
   "metadata": {},
   "source": [
    "### b. Đánh giá mô hình dự đoán"
   ]
  },
  {
   "cell_type": "code",
   "execution_count": 127,
   "id": "db7409a8",
   "metadata": {},
   "outputs": [
    {
     "name": "stdout",
     "output_type": "stream",
     "text": [
      ">>>> Model: Root Mean Squared Error = 0.05049807835426373\n"
     ]
    }
   ],
   "source": [
    "#Thêm lớp RegressionEvaluator từ thư viện máy học\n",
    "from pyspark.ml.evaluation import RegressionEvaluator\n",
    "\n",
    "#Sử dụng phương pháp tính Root Mean Squared Error để đánh giá kết quả mô hình\n",
    "evaluator = RegressionEvaluator(metricName=\"rmse\")\n",
    "evaluate_model_HTC3 = evaluator.evaluate(predictionsA)\n",
    "print(\">>>> Model: Root Mean Squared Error = \" + str(evaluate_model_HTC3))"
   ]
  },
  {
   "cell_type": "markdown",
   "id": "3bd0646e",
   "metadata": {},
   "source": [
    "### c. Trực quan hóa kết quả"
   ]
  },
  {
   "cell_type": "code",
   "execution_count": 128,
   "id": "eac23274",
   "metadata": {},
   "outputs": [],
   "source": [
    "predictionsA.createOrReplaceTempView(\"predictionsA\")\n",
    "prediction_result_MML = spark.sql(\"SELECT label, prediction FROM predictionsA\")"
   ]
  },
  {
   "cell_type": "code",
   "execution_count": 129,
   "id": "72266a0e",
   "metadata": {},
   "outputs": [
    {
     "data": {
      "text/html": [
       "<div>\n",
       "<style scoped>\n",
       "    .dataframe tbody tr th:only-of-type {\n",
       "        vertical-align: middle;\n",
       "    }\n",
       "\n",
       "    .dataframe tbody tr th {\n",
       "        vertical-align: top;\n",
       "    }\n",
       "\n",
       "    .dataframe thead th {\n",
       "        text-align: right;\n",
       "    }\n",
       "</style>\n",
       "<table border=\"1\" class=\"dataframe\">\n",
       "  <thead>\n",
       "    <tr style=\"text-align: right;\">\n",
       "      <th></th>\n",
       "      <th>label</th>\n",
       "      <th>prediction</th>\n",
       "    </tr>\n",
       "  </thead>\n",
       "  <tbody>\n",
       "    <tr>\n",
       "      <th>0</th>\n",
       "      <td>0.006246</td>\n",
       "      <td>0.105864</td>\n",
       "    </tr>\n",
       "    <tr>\n",
       "      <th>1</th>\n",
       "      <td>0.018329</td>\n",
       "      <td>0.122888</td>\n",
       "    </tr>\n",
       "    <tr>\n",
       "      <th>2</th>\n",
       "      <td>0.041663</td>\n",
       "      <td>0.122888</td>\n",
       "    </tr>\n",
       "    <tr>\n",
       "      <th>3</th>\n",
       "      <td>0.045829</td>\n",
       "      <td>0.122888</td>\n",
       "    </tr>\n",
       "    <tr>\n",
       "      <th>4</th>\n",
       "      <td>0.058329</td>\n",
       "      <td>0.122888</td>\n",
       "    </tr>\n",
       "  </tbody>\n",
       "</table>\n",
       "</div>"
      ],
      "text/plain": [
       "      label  prediction\n",
       "0  0.006246    0.105864\n",
       "1  0.018329    0.122888\n",
       "2  0.041663    0.122888\n",
       "3  0.045829    0.122888\n",
       "4  0.058329    0.122888"
      ]
     },
     "execution_count": 129,
     "metadata": {},
     "output_type": "execute_result"
    }
   ],
   "source": [
    "# Đưa giá trị Salary test và Salary dự đoán vào DataFrame để tiến hành so sánh và trực quan hóa\n",
    "prediction_result_MML.toPandas().head()"
   ]
  },
  {
   "cell_type": "code",
   "execution_count": 130,
   "id": "956d5038",
   "metadata": {},
   "outputs": [
    {
     "data": {
      "image/png": "[encoded data removed]",
      "text/plain": [
       "<Figure size 1800x432 with 1 Axes>"
      ]
     },
     "metadata": {
      "needs_background": "light"
     },
     "output_type": "display_data"
    }
   ],
   "source": [
    "# Trực quan hóa so sánh kết quả trên tập test và kết quả dự đoán\n",
    "x_ax = range(len(prediction_result_MML.toPandas()['label']))\n",
    "plt.figure(figsize=(25, 6))\n",
    "plt.plot(x_ax, prediction_result_MML.toPandas()['label'], linewidth=3, label=\"original\")\n",
    "plt.plot(x_ax, prediction_result_MML.toPandas()['prediction'], linewidth=3.5, label=\"predicted\")\n",
    "plt.title(\"y-test and predicted data\")\n",
    "plt.xlabel('Count')\n",
    "plt.ylabel('Salary')\n",
    "plt.legend(loc='best',fancybox=True, shadow=True)\n",
    "plt.grid(True)\n",
    "plt.show() "
   ]
  },
  {
   "cell_type": "markdown",
   "id": "cf96df4b",
   "metadata": {},
   "source": [
    "# VI. So sánh - Đánh giá"
   ]
  },
  {
   "cell_type": "markdown",
   "id": "75a4d093",
   "metadata": {},
   "source": [
    "## 1. Thời gian thực thi mô hình dự đoán"
   ]
  },
  {
   "cell_type": "code",
   "execution_count": 131,
   "id": "e5a598d4",
   "metadata": {},
   "outputs": [
    {
     "data": {
      "text/plain": [
       "(0.75697922706604, 0.8109316825866699, 1.1241950988769531)"
      ]
     },
     "execution_count": 131,
     "metadata": {},
     "output_type": "execute_result"
    }
   ],
   "source": [
    "run_time_HTC1, run_time_HTC2, run_time_HTC3"
   ]
  },
  {
   "cell_type": "code",
   "execution_count": 132,
   "id": "d64c3431",
   "metadata": {},
   "outputs": [
    {
     "data": {
      "image/png": "[encoded data removed]",
      "text/plain": [
       "<Figure size 720x432 with 1 Axes>"
      ]
     },
     "metadata": {
      "needs_background": "light"
     },
     "output_type": "display_data"
    }
   ],
   "source": [
    "# create a dataset\n",
    "run_time = [run_time_HTC1, run_time_HTC2, run_time_HTC3]\n",
    "bars = ('Hướng tiếp cận 1', 'Hướng tiếp cận 2', 'Hướng tiếp cận 3')\n",
    "x_pos = np.arange(len(bars))\n",
    "\n",
    "# Create bars with different colors\n",
    "plt.figure(figsize=(10,6))\n",
    "plt.bar(x_pos, run_time, color=['royalblue', 'cornflowerblue', 'lightsteelblue'])\n",
    "\n",
    "# Create names on the x-axis\n",
    "plt.title('Thời gian thực thi mô hình dự đoán', fontsize= 16)\n",
    "plt.ylabel(\"Thời gian (s)\",fontsize=13)\n",
    "plt.xticks(x_pos, bars, fontsize=12, rotation = 40)\n",
    "plt.yticks(fontsize=12)\n",
    "plt.grid(alpha=0.2)\n",
    "plt.show();\n",
    "\n",
    "# Show graph\n",
    "plt.show()"
   ]
  },
  {
   "cell_type": "markdown",
   "id": "7f5ee2ac",
   "metadata": {},
   "source": [
    "## 2. Độ chính xác thông qua chỉ số RMSE  "
   ]
  },
  {
   "cell_type": "code",
   "execution_count": 133,
   "id": "b3badce9",
   "metadata": {},
   "outputs": [
    {
     "data": {
      "text/plain": [
       "(0.050872286764751425, 0.05087228676475136, 0.05049807835426373)"
      ]
     },
     "execution_count": 133,
     "metadata": {},
     "output_type": "execute_result"
    }
   ],
   "source": [
    "evaluate_model_HTC1, evaluate_model_HTC2, evaluate_model_HTC3"
   ]
  },
  {
   "cell_type": "code",
   "execution_count": 134,
   "id": "4acb1692",
   "metadata": {},
   "outputs": [
    {
     "data": {
      "image/png": "[encoded data removed]",
      "text/plain": [
       "<Figure size 720x432 with 1 Axes>"
      ]
     },
     "metadata": {
      "needs_background": "light"
     },
     "output_type": "display_data"
    }
   ],
   "source": [
    "# create a dataset\n",
    "run_time = [evaluate_model_HTC1, evaluate_model_HTC2, evaluate_model_HTC3]\n",
    "bars = ('Hướng tiếp cận 1', 'Hướng tiếp cận 2', 'Hướng tiếp cận 3')\n",
    "x_pos = np.arange(len(bars))\n",
    "\n",
    "# Create bars with different colors\n",
    "plt.figure(figsize=(10,6))\n",
    "plt.bar(x_pos, run_time, color=['royalblue', 'cornflowerblue', 'lightsteelblue'])\n",
    "\n",
    "# Create names on the x-axis\n",
    "plt.title('Độ chính xác thông qua chỉ số RMSE', fontsize= 16)\n",
    "plt.ylabel(\"Điểm đánh giá\",fontsize=13)\n",
    "plt.xticks(x_pos, bars, fontsize=12, rotation = 40)\n",
    "plt.yticks(fontsize=12)\n",
    "plt.grid(alpha=0.2)\n",
    "plt.show();\n",
    "\n",
    "# Show graph\n",
    "plt.show()"
   ]
  },
  {
   "cell_type": "markdown",
   "id": "6f23849c",
   "metadata": {},
   "source": [
    "## 3. Độ chính xác thông qua trực quan hóa dữ liệu"
   ]
  },
  {
   "cell_type": "code",
   "execution_count": 135,
   "id": "9ccd358e",
   "metadata": {
    "scrolled": false
   },
   "outputs": [
    {
     "data": {
      "image/png": "[encoded data removed]",
      "text/plain": [
       "<Figure size 1080x720 with 3 Axes>"
      ]
     },
     "metadata": {
      "needs_background": "light"
     },
     "output_type": "display_data"
    }
   ],
   "source": [
    "cols = [prediction_result, y_predict, prediction_result_MML.toPandas()['prediction']]\n",
    "name = ['Hướng tiếp cận 1', 'Hướng tiếp cận 2', 'Hướng tiếp cận 3']\n",
    "x_ax = range(len(y_test))\n",
    "\n",
    "fig, ax = plt.subplots(3, 1, figsize=(15, 10))   \n",
    "a = 0\n",
    "for i in range(len(ax)): \n",
    "    ax[i].set_title(name[a])\n",
    "    ax[i].plot(x_ax, y_test, linewidth=1.5, label=\"original\")\n",
    "    ax[i].plot(x_ax, cols[a], linewidth=2, label=\"predicted\")\n",
    "    ax[i].grid(True)\n",
    "    ax[i].legend(loc=\"upper right\")\n",
    "    ax[i].label_outer()\n",
    "    a = a + 1\n",
    "plt.show() "
   ]
  }
 ],
 "metadata": {
  "kernelspec": {
   "display_name": "Python 3 (ipykernel)",
   "language": "python",
   "name": "python3"
  },
  "language_info": {
   "codemirror_mode": {
    "name": "ipython",
    "version": 3
   },
   "file_extension": ".py",
   "mimetype": "text/x-python",
   "name": "python",
   "nbconvert_exporter": "python",
   "pygments_lexer": "ipython3",
   "version": "3.8.10"
  }
 },
 "nbformat": 4,
 "nbformat_minor": 5
}
